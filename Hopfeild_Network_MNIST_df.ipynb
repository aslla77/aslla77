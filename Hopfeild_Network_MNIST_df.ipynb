{
  "nbformat": 4,
  "nbformat_minor": 0,
  "metadata": {
    "colab": {
      "provenance": [],
      "collapsed_sections": [],
      "mount_file_id": "1y13UT3XXqwvRO9TQSRrQui70gLsFISsr",
      "authorship_tag": "ABX9TyM7UdlUKNpRFWE3nUl+XwSt",
      "include_colab_link": true
    },
    "kernelspec": {
      "name": "python3",
      "display_name": "Python 3"
    },
    "language_info": {
      "name": "python"
    },
    "gpuClass": "standard"
  },
  "cells": [
    {
      "cell_type": "markdown",
      "metadata": {
        "id": "view-in-github",
        "colab_type": "text"
      },
      "source": [
        "<a href=\"https://colab.research.google.com/github/aslla77/aslla77/blob/master/Hopfeild_Network_MNIST_df.ipynb\" target=\"_parent\"><img src=\"https://colab.research.google.com/assets/colab-badge.svg\" alt=\"Open In Colab\"/></a>"
      ]
    },
    {
      "cell_type": "code",
      "execution_count": 2,
      "metadata": {
        "id": "Mqvslp0P_DjC"
      },
      "outputs": [],
      "source": [
        "import numpy as np\n",
        "import matplotlib.pyplot as plt\n",
        "import tensorflow as tf\n",
        "import seaborn as sns\n",
        "import cv2\n",
        "import pandas as pd"
      ]
    },
    {
      "cell_type": "code",
      "source": [
        "(x_train,t_train),(x_test,t_test)=tf.keras.datasets.mnist.load_data()"
      ],
      "metadata": {
        "id": "Rya1NRwQ_Slb",
        "colab": {
          "base_uri": "https://localhost:8080/"
        },
        "outputId": "7992e3a2-cc6f-4501-de1b-1eec5b63b34e"
      },
      "execution_count": 2,
      "outputs": [
        {
          "output_type": "stream",
          "name": "stdout",
          "text": [
            "Downloading data from https://storage.googleapis.com/tensorflow/tf-keras-datasets/mnist.npz\n",
            "11493376/11490434 [==============================] - 0s 0us/step\n",
            "11501568/11490434 [==============================] - 0s 0us/step\n"
          ]
        }
      ]
    },
    {
      "cell_type": "code",
      "source": [
        "def hamming_d(img,L):\n",
        "  h_distance = np.zeros([10,10])\n",
        "  for i in range(10):\n",
        "    for j in range(10):\n",
        "      h_distance[i][j] = np.sum(img[i]!=img[j])\n",
        "  return h_distance\n",
        "  # # heatmap plot\n",
        "  # heatmap=sns.heatmap(h_distance,cmap='Reds',annot=True,linewidth=0.5)\n",
        "  # plt.show()\n",
        "\n",
        "def count_in(arr):\n",
        "  unique, counts = np.unique(arr, return_counts = True)\n",
        "  uniq_cnt_dict = dict(zip(unique, counts))\n",
        "\n",
        "  return(uniq_cnt_dict)"
      ],
      "metadata": {
        "id": "a1D8lXR0yGOa"
      },
      "execution_count": 3,
      "outputs": []
    },
    {
      "cell_type": "code",
      "source": [
        "#resize , crop image ,  processing by the deskewing method , change to binary(0,1)\n",
        "def deskewing(img):\n",
        "  m=cv2.moments(img)\n",
        "  if abs(m['mu02'])<1e-2:\n",
        "    img=img\n",
        "  else:\n",
        "    skew=m['mu11']/m['mu02']\n",
        "    M=np.float32([[1,skew,-0.5*28*skew],[0,1,0]])\n",
        "    img=cv2.warpAffine(img,M,(0,0),flags=cv2.WARP_INVERSE_MAP|cv2.INTER_LINEAR)\n",
        "  return img\n",
        "\n",
        "def resize(img,L):\n",
        "  margin_pixel=0\n",
        "\n",
        "  contours,hierachy=cv2.findContours(img,cv2.RETR_EXTERNAL,cv2.CHAIN_APPROX_NONE)\n",
        "  rect=cv2.boundingRect(contours[0])\n",
        "  x,y,w,h=rect[0],rect[1],rect[2],rect[3]\n",
        "  im=img[y-margin_pixel:y+h+margin_pixel, x-margin_pixel:x+w+margin_pixel]\n",
        "  row,col=im.shape[:2]\n",
        "\n",
        "  #정방향 비율을 맞추기\n",
        "  bordersize=max(row,col)\n",
        "  diff=min(row,col)\n",
        "\n",
        "  bottom=im[row-2:row,0:col]\n",
        "  mean=cv2.mean(bottom)[0]\n",
        "\n",
        "  border=cv2.copyMakeBorder(\n",
        "      im,\n",
        "      top=0,\n",
        "      bottom=0,\n",
        "      left=int((bordersize-diff)/2),\n",
        "      right=int((bordersize-diff)/2),\n",
        "      borderType=cv2.BORDER_CONSTANT,\n",
        "      value=[0,0,0]\n",
        "\n",
        "  )\n",
        "  square=border\n",
        "  resized_img=cv2.resize(square,dsize=(L,L),interpolation=cv2.INTER_AREA)\n",
        "  return resized_img\n",
        "\n",
        "def crop_avr_img_v1(size,Num):  #손글씨를 평균내어서 size로 잘라내는 함수\n",
        "  xi = np.zeros([len(Num), size*size], dtype = 'float')\n",
        "  ori = np.zeros([len(Num), 28*28], dtype = 'float')\n",
        "  for i in range(len(Num)):\n",
        "    a=list(np.where(t_train==Num[i])[0])\n",
        "    b=np.zeros((28,28))\n",
        "    for j in (a):\n",
        "      dimg=deskewing(x_train[j])\n",
        "      # resized=resize(dimg,size)\n",
        "      b+=dimg\n",
        "    c=b/len(a)\n",
        "    ori[i]=c.reshape(28**2).copy()\n",
        "    m=cv2.moments(c)\n",
        "    cx=int(m['m10']/m['m00'])\n",
        "    cy=int(m['m01']/m['m00'])\n",
        "    c=c[cx-int(size//2):cx+int(size//2),cy-int(size//2):cy+int(size//2)]\n",
        "    xi[i]=c.reshape(size*size)\n",
        "    del(c)\n",
        "  return  xi\n",
        "\n",
        "def crop_avr_img(size,Num):  #손글씨를 평균내어서 size로 잘라내는 함수\n",
        "  xi = np.zeros([len(Num), size*size], dtype = 'float')\n",
        "  ori = np.zeros([len(Num), 28*28], dtype = 'float')\n",
        "  for i in range(len(Num)):\n",
        "    a=list(np.where(t_train==Num[i])[0])\n",
        "    b=np.zeros((size,size))\n",
        "    for j in (a):\n",
        "      dimg=deskewing(x_train[j])\n",
        "      resized=resize(dimg,size)\n",
        "      b+=resized\n",
        "    c=b/len(a)\n",
        "    # ori[i]=c.reshape(28**2).copy()\n",
        "    # m=cv2.moments(c)\n",
        "    # cx=int(m['m10']/m['m00'])\n",
        "    # cy=int(m['m01']/m['m00'])\n",
        "    # c=c[cx-int(size//2):cx+int(size//2),cy-int(size//2):cy+int(size//2)]\n",
        "    xi[i]=c.reshape(size*size)\n",
        "    del(c)\n",
        "  return  xi\n",
        "\n",
        "def create_crop_img(size):\n",
        "  xi = np.zeros([10, size*size], dtype = 'float')\n",
        "  original_img=np.zeros([10, 28*28], dtype = 'float')\n",
        "  for i in range(0,10):\n",
        "    a=list(np.where(t_train==i)[0])\n",
        "    img=x_train[a[np.random.randint(len(a))]]\n",
        "    m=cv2.moments(img)\n",
        "    cx=int(m['m10']/m['m00'])\n",
        "    cy=int(m['m01']/m['m00'])\n",
        "    original_img[i]=img.reshape(28*28).copy()\n",
        "    img=img[cx-int(size//2):cx+int(size//2),cy-int(size//2):cy+int(size//2)]\n",
        "    xi[i]=img.reshape(size*size)\n",
        "    \n",
        "  return original_img, xi\n",
        "\n",
        "def change_binary(img,percent):\n",
        "  ret,img=cv2.threshold(img,percent,255,cv2.THRESH_BINARY)\n",
        "  img=img/255\n",
        "  img[img<=0]=-1\n",
        "  img[img>0]=1\n",
        "  return  img\n",
        "\n",
        "def crop(img,size):\n",
        "\n",
        "  m=cv2.moments(img)\n",
        "  cx=int(m['m10']/m['m00'])\n",
        "  cy=int(m['m01']/m['m00'])\n",
        "  out_img=img[cx-int(size/2):cx+int(size/2),cy-int(size/2):cy+int(size/2)]\n",
        "  return out_img\n",
        "\n",
        "\n",
        "def random_number(index,L,threshold,state=None):\n",
        "  margin_pixel=0\n",
        "  #random seed setting\n",
        "  if state==None:\n",
        "    pass\n",
        "  else:\n",
        "    np.random.seed(state)\n",
        "\n",
        "  #create random number\n",
        "  a=list(np.where(t_test==index)[0])\n",
        "  img=x_test[a[np.random.randint(len(a))]]\n",
        "\n",
        "  #save orignal_img\n",
        "  ori=img.copy()\n",
        "\n",
        "  #기울기보정 deskewing_img\n",
        "  deskewing_img=deskewing(img)\n",
        "\n",
        "  # resized_img=resize(deskewing_img,28)\n",
        "  # crop_img=crop(resized_img,L)\n",
        "\n",
        "  crop_img=crop(deskewing_img,L)\n",
        "\n",
        "\n",
        "  S=change_binary(crop_img,threshold*0.02*255).reshape(L*L)\n",
        "\n",
        "  return ori, S\n",
        "\n"
      ],
      "metadata": {
        "id": "Bqxqlox-FpSc"
      },
      "execution_count": 4,
      "outputs": []
    },
    {
      "cell_type": "code",
      "source": [
        "#before preprocessing\n",
        "img26=crop_avr_img_v1(26,list(i for i in range(10)))\n",
        "print(img26.shape)\n",
        "print('before preprocessing')\n",
        "\n",
        "plt.figure(figsize=(20,20))\n",
        "for i in range(len(img26)):\n",
        "  plt.subplot(1,10,i+1)\n",
        "  plt.imshow(img26[i].reshape(26,26),cmap='gray')\n",
        "  plt.title('{:d}'.format(i))\n",
        "plt.show()\n"
      ],
      "metadata": {
        "colab": {
          "base_uri": "https://localhost:8080/",
          "height": 177
        },
        "id": "jMbRi2zoFTDE",
        "outputId": "f072fceb-1f89-4fd8-f82d-c8e63908d3cf"
      },
      "execution_count": 259,
      "outputs": [
        {
          "output_type": "stream",
          "name": "stdout",
          "text": [
            "(10, 676)\n",
            "before preprocessing\n"
          ]
        },
        {
          "output_type": "display_data",
          "data": {
            "text/plain": [
              "<Figure size 1440x1440 with 10 Axes>"
            ],
            "image/png": "[encoded data removed]"
          },
          "metadata": {
            "needs_background": "light"
          }
        }
      ]
    },
    {
      "cell_type": "code",
      "source": [
        "img26=crop_avr_img(26,list(i for i in range(10)))\n",
        "print(img26.shape)\n",
        "print('before preprocessing')\n",
        "\n",
        "plt.figure(figsize=(20,20))\n",
        "for i in range(len(img26)):\n",
        "  plt.subplot(1,10,i+1)\n",
        "  plt.imshow(img26[i].reshape(26,26),cmap='gray')\n",
        "  plt.title('{:d}'.format(i))\n",
        "plt.show()"
      ],
      "metadata": {
        "colab": {
          "base_uri": "https://localhost:8080/",
          "height": 177
        },
        "id": "z9KEuoVWinrd",
        "outputId": "995eb7f0-cff2-44d8-db4b-5221523a4341"
      },
      "execution_count": 229,
      "outputs": [
        {
          "output_type": "stream",
          "name": "stdout",
          "text": [
            "(10, 676)\n",
            "before preprocessing\n"
          ]
        },
        {
          "output_type": "display_data",
          "data": {
            "text/plain": [
              "<Figure size 1440x1440 with 10 Axes>"
            ],
            "image/png": "[encoded data removed]"
          },
          "metadata": {
            "needs_background": "light"
          }
        }
      ]
    },
    {
      "cell_type": "code",
      "source": [
        "data_size=[10,12,14,16,18,20]\n",
        "mindata=1e-9\n",
        "mindatathresh=0\n",
        "mindatasize=0\n",
        "\n",
        "for j in data_size:\n",
        "  xdata=[]\n",
        "  ydata=[]\n",
        "  crop_img=crop_avr_img_v1(j,list(i for i in range(10)))\n",
        "  for i in range(0,100):\n",
        "    binary_img=change_binary(crop_img,i*0.01*255).reshape(10,j,j)\n",
        "    h_distance=hamming_d(binary_img,j)/(j*j)\n",
        "    tri_np=h_distance*(np.tri(10))\n",
        "    ydata.append(np.sum(tri_np)/(45))\n",
        "    xdata.append(i*0.01*255)\n",
        "    if np.sum(tri_np)/(45)>mindata:\n",
        "      mindata=np.sum(tri_np)/(45)\n",
        "      mindatathresh=i\n",
        "      mindatasize=j\n",
        "  plt.plot(xdata,ydata,label='data_size={0:d}({1:d}*{1:d})'.format(j*j,j))\n",
        "\n",
        "plt.xlabel('threshold')\n",
        "plt.ylabel('Hamming_distance')\n",
        "plt.legend(loc='upper right',ncol=2,fontsize=10)\n",
        "plt.ylim(0,0.7)\n",
        "plt.show()\n",
        "print('mindata:',mindata)\n",
        "print('min threshold:',mindatathresh*0.01*255,mindatathresh)\n",
        "print('min_size:',mindatasize)"
      ],
      "metadata": {
        "colab": {
          "base_uri": "https://localhost:8080/",
          "height": 337
        },
        "id": "ub8RHEN0zjkB",
        "outputId": "bef885ac-a5d2-49a6-c8b3-0fee9c885e87"
      },
      "execution_count": 157,
      "outputs": [
        {
          "output_type": "display_data",
          "data": {
            "text/plain": [
              "<Figure size 432x288 with 1 Axes>"
            ],
            "image/png": "[encoded data removed]"
          },
          "metadata": {
            "needs_background": "light"
          }
        },
        {
          "output_type": "stream",
          "name": "stdout",
          "text": [
            "mindata: 0.4897777777777778\n",
            "min threshold: 107.1 42\n",
            "min_size: 10\n"
          ]
        }
      ]
    },
    {
      "cell_type": "code",
      "source": [
        "\n",
        "L=14\n",
        "threshold=43\n",
        "crop_img=crop_avr_img_v1(L,list(i for i in range(10)))\n",
        "binary_img=change_binary(crop_img,threshold*0.01*255).reshape(10,L*L)\n",
        "h_distance=(hamming_d(binary_img,L))/(L**2)\n",
        "\n",
        "# heatmap plot\n",
        "heatmap=sns.heatmap(h_distance,cmap='Greys',linewidth=0.5)\n",
        "#,annot=True\n",
        "\n",
        "plt.show()\n",
        "print(np.max(h_distance))"
      ],
      "metadata": {
        "colab": {
          "base_uri": "https://localhost:8080/",
          "height": 301
        },
        "id": "5FY8sYrq71u3",
        "outputId": "70c340e9-d8a9-4c5d-a2b2-87714ab7ff00"
      },
      "execution_count": 225,
      "outputs": [
        {
          "output_type": "display_data",
          "data": {
            "text/plain": [
              "<Figure size 432x288 with 2 Axes>"
            ],
            "image/png": "[encoded data removed]"
          },
          "metadata": {
            "needs_background": "light"
          }
        },
        {
          "output_type": "stream",
          "name": "stdout",
          "text": [
            "0.42857142857142855\n",
            "0.6479591836734694\n"
          ]
        }
      ]
    },
    {
      "cell_type": "code",
      "source": [
        "#before preprocessing\n",
        "print('after binary')\n",
        "plt.figure(figsize=(20,20))\n",
        "for i in range(len(binary_img)):\n",
        "  plt.subplot(1,10,i+1)\n",
        "  plt.imshow(binary_img[i].reshape(L,L),cmap='gray')\n",
        "  plt.title('{:d}'.format(i))\n",
        "plt.show()"
      ],
      "metadata": {
        "colab": {
          "base_uri": "https://localhost:8080/",
          "height": 160
        },
        "id": "2x_Km6wXVU8x",
        "outputId": "835d3655-5005-4d38-f585-149e39ed337f"
      },
      "execution_count": 226,
      "outputs": [
        {
          "output_type": "stream",
          "name": "stdout",
          "text": [
            "after binary\n"
          ]
        },
        {
          "output_type": "display_data",
          "data": {
            "text/plain": [
              "<Figure size 1440x1440 with 10 Axes>"
            ],
            "image/png": "[encoded data removed]"
          },
          "metadata": {
            "needs_background": "light"
          }
        }
      ]
    },
    {
      "cell_type": "code",
      "source": [
        "L=12\n",
        "threshold=43\n",
        "N=L*L\n",
        "\n",
        "\n",
        "crop_avr_img1=crop_avr_img_v1(L,list(i for i in range(10)))\n",
        "binary_avr_img=change_binary(crop_avr_img1,threshold*0.01*255).reshape(10,L,L)\n",
        "\n",
        "index=1\n",
        "plt.figure(figsize=(10,10))\n",
        "xi=binary_avr_img.copy().reshape(10,L*L)\n",
        "\n",
        "unique, counts = np.unique(xi, return_counts = True)\n",
        "uniq_cnt_dict = dict(zip(unique, counts))\n",
        "\n",
        "\n",
        "# J = (xi.T@xi)-np.eye(L*L)*10\n",
        "J=(xi.T@xi)/10 \n",
        "\n",
        "for xinum in range(10):\n",
        "  \n",
        "  S=xi[xinum].copy()\n",
        "  plt.subplot(1,8,index)\n",
        "  plt.imshow(S.reshape(L,L),cmap='gray')\n",
        "  plt.title('orignal')\n",
        "\n",
        "  index+=1\n",
        "\n",
        "  plt.subplot(1,8,index)\n",
        "  plt.imshow(xi[xinum].reshape(L,L),cmap=\"gray\")\n",
        "  plt.title('want')\n",
        "  index+=1\n",
        "\n",
        "  #input image\n",
        "  plt.subplot(1,8,index)\n",
        "  plt.imshow(S.reshape(L,L),cmap=\"gray\")\n",
        "  plt.title('input')\n",
        "  index+=1\n",
        "\n",
        "  F= J@S\n",
        "  for counter in range(6000):\n",
        "    for k in range(N):\n",
        "      dE = 2*(F[k]*S[k] - J[k][k])\n",
        "      if dE < 0:\n",
        "        for i in range(N):\n",
        "          F[i] -= 2*J[i][k]*S[k]        \n",
        "        S[k] *= -1\n",
        "\n",
        "  #output image\n",
        "  plt.subplot(1,8,index)\n",
        "  plt.imshow(S.reshape(L,L), cmap=\"gray\")\n",
        "  plt.title('Output')\n",
        "  \n",
        "  if index ==8:\n",
        "    plt.show()\n",
        "    plt.figure(figsize=(10,10))\n",
        "    index=0\n",
        "  index+=1\n"
      ],
      "metadata": {
        "colab": {
          "base_uri": "https://localhost:8080/",
          "height": 601
        },
        "id": "hQzrWURGcFcZ",
        "outputId": "35ddc2fc-5515-4235-b765-6bbc4d78bda5"
      },
      "execution_count": 227,
      "outputs": [
        {
          "output_type": "stream",
          "name": "stdout",
          "text": [
            "xi: {-1.0: 798, 1.0: 642}\n",
            "1.0 1.0 1.0 1.0 1.0 1.0 1.0 1.0 1.0 1.0 1.0 1.0 "
          ]
        },
        {
          "output_type": "display_data",
          "data": {
            "text/plain": [
              "<Figure size 720x720 with 8 Axes>"
            ],
            "image/png": "[encoded data removed]"
          },
          "metadata": {
            "needs_background": "light"
          }
        },
        {
          "output_type": "display_data",
          "data": {
            "text/plain": [
              "<Figure size 720x720 with 8 Axes>"
            ],
            "image/png": "[encoded data removed]"
          },
          "metadata": {
            "needs_background": "light"
          }
        },
        {
          "output_type": "display_data",
          "data": {
            "text/plain": [
              "<Figure size 720x720 with 8 Axes>"
            ],
            "image/png": "[encoded data removed]"
          },
          "metadata": {
            "needs_background": "light"
          }
        },
        {
          "output_type": "display_data",
          "data": {
            "text/plain": [
              "<Figure size 720x720 with 8 Axes>"
            ],
            "image/png": "[encoded data removed]"
          },
          "metadata": {
            "needs_background": "light"
          }
        },
        {
          "output_type": "display_data",
          "data": {
            "text/plain": [
              "<Figure size 720x720 with 8 Axes>"
            ],
            "image/png": "[encoded data removed]"
          },
          "metadata": {
            "needs_background": "light"
          }
        },
        {
          "output_type": "display_data",
          "data": {
            "text/plain": [
              "<Figure size 720x720 with 0 Axes>"
            ]
          },
          "metadata": {}
        }
      ]
    },
    {
      "cell_type": "code",
      "source": [
        "L=14\n",
        "threshold=15\n",
        "N=L*L\n",
        "orignal_img, not_avr_img=create_crop_img(L)\n",
        "\n",
        "d_ori_img=np.ones_like(orignal_img).reshape(10,28*28)\n",
        "d_single_img=np.ones_like(not_avr_img).reshape(10,L*L)\n",
        "\n",
        "for i in range(10):\n",
        "  d_ori_img[i]=deskewing(orignal_img[i].reshape(28,28)).reshape(28*28)\n",
        "  d_single_img[i]=deskewing(not_avr_img[i].reshape(L,L)).reshape(L*L)\n",
        "\n",
        "binary_single_img=change_binary(d_single_img,threshold*0.01*255).reshape(10,L,L)\n",
        "\n",
        "\n",
        "index=1\n",
        "plt.figure(figsize=(10,10))\n",
        "\n",
        "single_xi=binary_single_img.copy().reshape(10,L*L)\n",
        "\n",
        "\n",
        "J = (single_xi.T@single_xi)/10\n",
        "\n",
        "\n",
        "for xinum in range(10):\n",
        "  a=list(np.where(t_test==xinum)[0])\n",
        "  img=x_test[a[np.random.randint(len(a))]]\n",
        "\n",
        "  \n",
        "\n",
        "  plt.subplot(1,8,index)\n",
        "  plt.imshow(np.array(cv2.resize(img.reshape(28,28),(L,L))),cmap='gray')\n",
        "  plt.title('orignal')\n",
        "  index+=1\n",
        "\n",
        "  crop_img=crop(img,L)\n",
        "  deskewing_img=deskewing(crop_img)\n",
        "  S=change_binary(deskewing_img,threshold*0.01*255).reshape(L*L)\n",
        "\n",
        "  #input image\n",
        "  plt.subplot(1,8,index)\n",
        "  plt.imshow(single_xi[xinum].reshape(L,L),cmap=\"gray\")\n",
        "  plt.title('want')\n",
        "  index+=1\n",
        "\n",
        "  plt.subplot(1,8,index)\n",
        "  plt.imshow(S.reshape(L,L),cmap=\"gray\")\n",
        "  plt.title('input')\n",
        "  index+=1\n",
        "  \n",
        "\n",
        "\n",
        "  F=J@S\n",
        "  for counter in range(5000):\n",
        "    for k in range(N):\n",
        "      dE = 2*(F[k]*S[k] - J[k][k])\n",
        "      if dE < 0:\n",
        "        for i in range(N):\n",
        "          F[i] -= 2*J[i][k]*S[k]        \n",
        "        S[k] *= -1\n",
        "\n",
        "  #output image\n",
        "  plt.subplot(1,8,index)\n",
        "  plt.imshow(S.reshape(L,L), cmap=\"gray\")\n",
        "  plt.title('Output')\n",
        "  \n",
        "  if index ==8:\n",
        "    plt.show()\n",
        "    plt.figure(figsize=(10,10))\n",
        "    index=0\n",
        "  index+=1\n"
      ],
      "metadata": {
        "id": "6zgqNy0myfg_",
        "colab": {
          "base_uri": "https://localhost:8080/",
          "height": 565
        },
        "outputId": "2eed883d-cbc8-4d55-c484-9fe615553aa9"
      },
      "execution_count": 265,
      "outputs": [
        {
          "output_type": "display_data",
          "data": {
            "text/plain": [
              "<Figure size 720x720 with 8 Axes>"
            ],
            "image/png": "[encoded data removed]"
          },
          "metadata": {
            "needs_background": "light"
          }
        },
        {
          "output_type": "display_data",
          "data": {
            "text/plain": [
              "<Figure size 720x720 with 8 Axes>"
            ],
            "image/png": "[encoded data removed]"
          },
          "metadata": {
            "needs_background": "light"
          }
        },
        {
          "output_type": "display_data",
          "data": {
            "text/plain": [
              "<Figure size 720x720 with 8 Axes>"
            ],
            "image/png": "[encoded data removed]"
          },
          "metadata": {
            "needs_background": "light"
          }
        },
        {
          "output_type": "display_data",
          "data": {
            "text/plain": [
              "<Figure size 720x720 with 8 Axes>"
            ],
            "image/png": "[encoded data removed]"
          },
          "metadata": {
            "needs_background": "light"
          }
        },
        {
          "output_type": "display_data",
          "data": {
            "text/plain": [
              "<Figure size 720x720 with 8 Axes>"
            ],
            "image/png": "[encoded data removed]"
          },
          "metadata": {
            "needs_background": "light"
          }
        },
        {
          "output_type": "display_data",
          "data": {
            "text/plain": [
              "<Figure size 720x720 with 0 Axes>"
            ]
          },
          "metadata": {}
        }
      ]
    },
    {
      "cell_type": "code",
      "source": [
        "class hopfield:\n",
        "  def __init__(self,L,threshold,MaxStep,avr=False):\n",
        "    global x_train,x_test\n",
        "    self.L=L\n",
        "    self.N=self.L**2\n",
        "    self.threshold=threshold\n",
        "    self.MaxStep=MaxStep\n",
        "    self.avr=avr\n",
        "\n",
        "    if isinstance(avr,list)==True:\n",
        "      crop_img=crop_avr_img_v1(self.L,avr)\n",
        "      binary_img=change_binary(crop_img,self.threshold).reshape(len(avr),self.L**2)\n",
        "      self.xi=binary_img.copy()\n",
        "\n",
        "    elif avr==True:\n",
        "      self.avr=list(i for i in range(0,10))\n",
        "      crop_avr_img1=crop_avr_img_v1(self.L,list(i for i in range(10)))\n",
        "      binary_avr_img=change_binary(crop_avr_img1,self.threshold).reshape(10,self.L**2)\n",
        "      self.xi=binary_avr_img.copy()\n",
        "\n",
        "    elif avr!=True:\n",
        "      self.avr=list(i for i in range(0,10))\n",
        "      self.ori_img, not_avr_img=create_crop_img(self.L)\n",
        "      d_single_img=np.ones_like(not_avr_img).reshape(10,self.L**2)\n",
        "\n",
        "      for i in range(10):\n",
        "        d_single_img[i]=deskewing(not_avr_img[i].reshape(self.L,self.L)).reshape(self.L**2)\n",
        "      binary_single_img=change_binary(d_single_img,self.threshold).reshape(10,self.L**2)\n",
        "      self.xi=binary_single_img.copy()\n",
        "\n",
        "    plt.figure(figsize=(len(self.xi),2))\n",
        "\n",
        "    for i in range(len(self.xi)):\n",
        "      plt.subplot(1,len(self.xi),i+1)\n",
        "      plt.imshow(self.xi[i].reshape(self.L,self.L),cmap='gray')\n",
        "    plt.suptitle('reference pattern',x=0.5,y=0.85)\n",
        "    plt.show()\n",
        "\n",
        "  def run(self,S):\n",
        "    self.J = (self.xi.T@self.xi)/len(self.xi)\n",
        "    self.ori=S.copy()\n",
        "    self.S=S.copy()\n",
        "    index=1\n",
        "\n",
        "    self.F=self.J@self.S\n",
        "    for counter in range(self.MaxStep):\n",
        "      for k in range(self.N):\n",
        "        dE = 2*(self.F[k]*self.S[k] - self.J[k][k])\n",
        "        if dE < 0:\n",
        "          for i in range(self.N):\n",
        "            self.F[i] -= 2*self.J[i][k]*self.S[k]        \n",
        "          self.S[k] *= -1\n",
        "         \n",
        "    return self.S \n",
        "\n",
        "  def plot_show(self):\n",
        "    plt.figure(figsize=(5,5))\n",
        "    plt.subplot(1,2,1)\n",
        "    plt.imshow(self.ori.reshape(self.L,self.L),cmap='gray')\n",
        "    plt.title('input')\n",
        "    plt.subplot(1,2,2)\n",
        "    plt.imshow(self.S.reshape(self.L,self.L),cmap='gray')\n",
        "    plt.title('output')\n",
        "    plt.show()\n",
        "  \n",
        "  def similiarity(self):\n",
        "    simi=1e-9\n",
        "    simi1=1e-9\n",
        "    for i in range(len(self.xi)):\n",
        "      data=np.sum(self.xi[i]==self.S)/(self.L**2)\n",
        "      if data<=0.2:\n",
        "        data=np.sum(self.xi[i]*(-1)==self.S)/(self.L**2)\n",
        "\n",
        "      if data>simi :\n",
        "        simi=data\n",
        "        simi_index=self.avr[i]\n",
        "\n",
        "    return simi,simi_index\n",
        "\n",
        "  def compare(self,index):\n",
        "    data=np.sum(self.xi[self.avr.index(index)]==self.S)/(self.L**2)\n",
        "    if data<=0.2:\n",
        "      data=np.sum(self.xi[self.avr.index(index)]*(-1)==self.S)/(self.L**2)\n",
        "    return data"
      ],
      "metadata": {
        "id": "7SE7kUSSQoQ4"
      },
      "execution_count": 6,
      "outputs": []
    },
    {
      "cell_type": "code",
      "source": [
        "a=hopfield(14,86,4000,True)\n",
        "img=a.xi[1].copy()\n",
        "a.run(img)\n",
        "a.plot_show()"
      ],
      "metadata": {
        "colab": {
          "base_uri": "https://localhost:8080/",
          "height": 296
        },
        "id": "KJdMsu0CVB6E",
        "outputId": "8c6d857a-331c-4d8a-ec01-6e8e1703c0f3"
      },
      "execution_count": 7,
      "outputs": [
        {
          "output_type": "display_data",
          "data": {
            "text/plain": [
              "<Figure size 720x144 with 10 Axes>"
            ],
            "image/png": "[encoded data removed]"
          },
          "metadata": {
            "needs_background": "light"
          }
        },
        {
          "output_type": "display_data",
          "data": {
            "text/plain": [
              "<Figure size 360x360 with 2 Axes>"
            ],
            "image/png": "[encoded data removed]"
          },
          "metadata": {
            "needs_background": "light"
          }
        }
      ]
    },
    {
      "cell_type": "code",
      "source": [
        "from itertools import combinations\n",
        "h_distance=(hamming_d(a.xi,14))/(14**2)\n",
        "\n",
        "# heatmap plot\n",
        "heatmap=sns.heatmap(h_distance,cmap='Greys',linewidth=0.5)\n",
        "#,annot=True\n",
        "\n",
        "plt.show()\n",
        "num=9\n",
        "print('min:',np.min(h_distance+np.eye(10)*100))\n",
        "print(np.where((h_distance+np.eye(10)*100)==np.min(h_distance+np.eye(10)*100)))\n",
        "Min=1e-9\n",
        "for i,j in combinations(list(i for i in range(len(h_distance[num])) if i!=num ),2):\n",
        "  if Min<np.sum(h_distance[num][[i,j]]):\n",
        "    Min=np.sum(h_distance[num][[i,j]])\n",
        "    index=(i,j,num)\n",
        "print(Min)\n",
        "print(index)\n",
        "print(h_distance[num])\n",
        "\n",
        "Min=1e-9\n",
        "num=4\n",
        "for i,j in combinations(list(i for i in range(len(h_distance[num])) if not(i in index)and i!=num),2):\n",
        "  if Min<np.sum(h_distance[num][[i,j]]):\n",
        "    Min=np.sum(h_distance[num][[i,j]])\n",
        "    index=(i,j,num)\n",
        "print(Min)\n",
        "print(index)\n",
        "print(h_distance[num])\n",
        "#1,2,4 // 0,3,9"
      ],
      "metadata": {
        "colab": {
          "base_uri": "https://localhost:8080/",
          "height": 241
        },
        "id": "YUECxFqpRt9-",
        "outputId": "72630748-6d95-416b-ed13-1ad43f62e08d"
      },
      "execution_count": 12,
      "outputs": [
        {
          "output_type": "error",
          "ename": "NameError",
          "evalue": "ignored",
          "traceback": [
            "\u001b[0;31m---------------------------------------------------------------------------\u001b[0m",
            "\u001b[0;31mNameError\u001b[0m                                 Traceback (most recent call last)",
            "\u001b[0;32m<ipython-input-12-7df4bd089217>\u001b[0m in \u001b[0;36m<module>\u001b[0;34m\u001b[0m\n\u001b[1;32m      1\u001b[0m \u001b[0;32mfrom\u001b[0m \u001b[0mitertools\u001b[0m \u001b[0;32mimport\u001b[0m \u001b[0mcombinations\u001b[0m\u001b[0;34m\u001b[0m\u001b[0;34m\u001b[0m\u001b[0m\n\u001b[0;32m----> 2\u001b[0;31m \u001b[0mh_distance\u001b[0m\u001b[0;34m=\u001b[0m\u001b[0;34m(\u001b[0m\u001b[0mhamming_d\u001b[0m\u001b[0;34m(\u001b[0m\u001b[0ma\u001b[0m\u001b[0;34m.\u001b[0m\u001b[0mxi\u001b[0m\u001b[0;34m,\u001b[0m\u001b[0;36m14\u001b[0m\u001b[0;34m)\u001b[0m\u001b[0;34m)\u001b[0m\u001b[0;34m/\u001b[0m\u001b[0;34m(\u001b[0m\u001b[0;36m14\u001b[0m\u001b[0;34m**\u001b[0m\u001b[0;36m2\u001b[0m\u001b[0;34m)\u001b[0m\u001b[0;34m\u001b[0m\u001b[0;34m\u001b[0m\u001b[0m\n\u001b[0m\u001b[1;32m      3\u001b[0m \u001b[0;34m\u001b[0m\u001b[0m\n\u001b[1;32m      4\u001b[0m \u001b[0;31m# heatmap plot\u001b[0m\u001b[0;34m\u001b[0m\u001b[0;34m\u001b[0m\u001b[0;34m\u001b[0m\u001b[0m\n\u001b[1;32m      5\u001b[0m \u001b[0mheatmap\u001b[0m\u001b[0;34m=\u001b[0m\u001b[0msns\u001b[0m\u001b[0;34m.\u001b[0m\u001b[0mheatmap\u001b[0m\u001b[0;34m(\u001b[0m\u001b[0mh_distance\u001b[0m\u001b[0;34m,\u001b[0m\u001b[0mcmap\u001b[0m\u001b[0;34m=\u001b[0m\u001b[0;34m'Greys'\u001b[0m\u001b[0;34m,\u001b[0m\u001b[0mlinewidth\u001b[0m\u001b[0;34m=\u001b[0m\u001b[0;36m0.5\u001b[0m\u001b[0;34m)\u001b[0m\u001b[0;34m\u001b[0m\u001b[0;34m\u001b[0m\u001b[0m\n",
            "\u001b[0;31mNameError\u001b[0m: name 'hamming_d' is not defined"
          ]
        }
      ]
    },
    {
      "cell_type": "code",
      "source": [
        "class perceptron(hopfield):\n",
        "  def __init__(self,L,threshold,MaxStep,list1=[1,2,4],list2=[0,3,9],list3=[5,6,7,8]):\n",
        "    self.L=L\n",
        "    self.N=L**2\n",
        "    self.threshold=threshold\n",
        "    self.MaxStep=MaxStep\n",
        "   \n",
        "    self.perceptron1=hopfield(self.L,self.threshold,self.MaxStep,list1)\n",
        "    self.perceptron2=hopfield(self.L,self.threshold,self.MaxStep,list2)\n",
        "    self.perceptron3=hopfield(self.L,self.threshold,self.MaxStep,list3)\n",
        "\n",
        "  def run(self,S):\n",
        "    self.S=S.copy()\n",
        "    self.xi_2=np.empty((0,self.N))\n",
        "    self.numdata=[]\n",
        "\n",
        "    self.img=S.copy()\n",
        "    S1=self.perceptron1.run(self.img)\n",
        "\n",
        "    self.img=S.copy()\n",
        "    S2=self.perceptron2.run(self.img)\n",
        "\n",
        "    self.img=S.copy()\n",
        "    S3=self.perceptron3.run(self.img)\n",
        "\n",
        "    percent_1,num_index_1=self.perceptron1.similiarity()\n",
        "    percent_2,num_index_2=self.perceptron2.similiarity()\n",
        "    percent_3,num_index_3=self.perceptron3.similiarity()\n",
        "    self.index1=None\n",
        "\n",
        "    if percent_1>=0.9:\n",
        "      self.xi_2=np.append(self.xi_2,np.array([S1]),axis=0)\n",
        "      self.numdata.append(num_index_1)\n",
        "\n",
        "    if percent_2>=0.9:\n",
        "      self.xi_2=np.append(self.xi_2,np.array([S2]),axis=0)\n",
        "      self.numdata.append(num_index_2)\n",
        "\n",
        "    if percent_3>=0.9:\n",
        "      self.xi_2=np.append(self.xi_2,np.array([S3]),axis=0)\n",
        "      self.numdata.append(num_index_3)\n",
        "\n",
        "    if self.xi_2.shape[0]==0:\n",
        "      return self.S ,self.index1\n",
        "\n",
        "    else:\n",
        "      self.J = (self.xi_2.T@self.xi_2)/len(self.xi_2)\n",
        "      self.F=self.J@self.S\n",
        "\n",
        "      for counter in range(self.MaxStep):\n",
        "        for k in range(self.N):\n",
        "          dE = 2*(self.F[k]*self.S[k] - self.J[k][k])\n",
        "          if dE < 0:\n",
        "            for i in range(self.N):\n",
        "              self.F[i] -= 2*self.J[i][k]*self.S[k]        \n",
        "            self.S[k] *= -1\n",
        "\n",
        "      percent1,self.index1=self.similiarity1()\n",
        "\n",
        "    return self.S ,self.index1\n",
        "\n",
        "  def similiarity1(self):\n",
        "    simi_xi2=1e-9\n",
        "\n",
        "    for i in range(len(self.xi_2)):\n",
        "      data_xi2=np.sum(self.xi_2[i]==self.S)/(self.L**2)\n",
        "      if data_xi2<=0.2:\n",
        "        data_xi2=np.sum(self.xi_2[i]*(-1)==self.S)/(self.L**2)\n",
        "\n",
        "      if data_xi2>simi_xi2 :\n",
        "        simi_xi2=data_xi2\n",
        "        simi_index_xi2=self.numdata[i]\n",
        "\n",
        "    return simi_xi2,simi_index_xi2\n"
      ],
      "metadata": {
        "id": "gxIKfFRkZR6i"
      },
      "execution_count": 9,
      "outputs": []
    },
    {
      "cell_type": "code",
      "source": [
        "num=9\n",
        "thresholdd=15\n",
        "L=14\n",
        "#L:crop_size, threshold:107.1, MaxStep:4000, list1,list2,list3=perceptron1\n",
        "ss=perceptron(L,107.10,5000,[0,1,9],[2,3,4],[5,6,7,8] ) \n",
        "# 실행시 기준 패턴을 보여줌"
      ],
      "metadata": {
        "colab": {
          "base_uri": "https://localhost:8080/",
          "height": 334
        },
        "id": "KEDdFPLpos-r",
        "outputId": "4e8f82e7-b52d-46c8-f1ca-dfdb45defb38"
      },
      "execution_count": 10,
      "outputs": [
        {
          "output_type": "display_data",
          "data": {
            "text/plain": [
              "<Figure size 216x144 with 3 Axes>"
            ],
            "image/png": "[encoded data removed]"
          },
          "metadata": {
            "needs_background": "light"
          }
        },
        {
          "output_type": "display_data",
          "data": {
            "text/plain": [
              "<Figure size 216x144 with 3 Axes>"
            ],
            "image/png": "[encoded data removed]"
          },
          "metadata": {
            "needs_background": "light"
          }
        },
        {
          "output_type": "display_data",
          "data": {
            "text/plain": [
              "<Figure size 288x144 with 4 Axes>"
            ],
            "image/png": "[encoded data removed]"
          },
          "metadata": {
            "needs_background": "light"
          }
        }
      ]
    },
    {
      "cell_type": "code",
      "source": [
        "for i in range(10):\n",
        "  plt.figure(figsize=(5,5))\n",
        "  ori_img,img=random_number(i,L,thresholdd)\n",
        "  S,index=ss.run(img)\n",
        "  z=len(ss.xi_2)+2\n",
        "  plt.subplot(1,z,1)\n",
        "  plt.imshow(img.reshape(L,L),cmap='gray')\n",
        "  plt.title('input')\n",
        "\n",
        "  for k in range(len(ss.xi_2)):                       #옳은 정답을 찾을 경우 2계층의 연상기억 장치에 들어가는 패턴들\n",
        "    plt.subplot(1,z,k+2)\n",
        "    plt.imshow(ss.xi_2[k].reshape(L,L),cmap='gray')\n",
        "    plt.title('xi_2 : {:d}'.format(k))\n",
        "  \n",
        "  plt.subplot(1,z,z)\n",
        "  plt.imshow(S.reshape(L,L),cmap='gray')\n",
        "  plt.title('output')  \n",
        "  plt.show()"
      ],
      "metadata": {
        "colab": {
          "base_uri": "https://localhost:8080/",
          "height": 1000
        },
        "id": "t6avmiWb-NQo",
        "outputId": "22337f63-9ad4-4d82-8548-bdb570de27fc"
      },
      "execution_count": 11,
      "outputs": [
        {
          "output_type": "display_data",
          "data": {
            "text/plain": [
              "<Figure size 360x360 with 5 Axes>"
            ],
            "image/png": "[encoded data removed]"
          },
          "metadata": {
            "needs_background": "light"
          }
        },
        {
          "output_type": "display_data",
          "data": {
            "text/plain": [
              "<Figure size 360x360 with 5 Axes>"
            ],
            "image/png": "[encoded data removed]"
          },
          "metadata": {
            "needs_background": "light"
          }
        },
        {
          "output_type": "display_data",
          "data": {
            "text/plain": [
              "<Figure size 360x360 with 4 Axes>"
            ],
            "image/png": "[encoded data removed]"
          },
          "metadata": {
            "needs_background": "light"
          }
        },
        {
          "output_type": "display_data",
          "data": {
            "text/plain": [
              "<Figure size 360x360 with 5 Axes>"
            ],
            "image/png": "[encoded data removed]"
          },
          "metadata": {
            "needs_background": "light"
          }
        },
        {
          "output_type": "display_data",
          "data": {
            "text/plain": [
              "<Figure size 360x360 with 5 Axes>"
            ],
            "image/png": "[encoded data removed]"
          },
          "metadata": {
            "needs_background": "light"
          }
        },
        {
          "output_type": "display_data",
          "data": {
            "text/plain": [
              "<Figure size 360x360 with 4 Axes>"
            ],
            "image/png": "[encoded data removed]"
          },
          "metadata": {
            "needs_background": "light"
          }
        },
        {
          "output_type": "display_data",
          "data": {
            "text/plain": [
              "<Figure size 360x360 with 4 Axes>"
            ],
            "image/png": "[encoded data removed]"
          },
          "metadata": {
            "needs_background": "light"
          }
        },
        {
          "output_type": "display_data",
          "data": {
            "text/plain": [
              "<Figure size 360x360 with 4 Axes>"
            ],
            "image/png": "[encoded data removed]"
          },
          "metadata": {
            "needs_background": "light"
          }
        },
        {
          "output_type": "display_data",
          "data": {
            "text/plain": [
              "<Figure size 360x360 with 4 Axes>"
            ],
            "image/png": "[encoded data removed]"
          },
          "metadata": {
            "needs_background": "light"
          }
        },
        {
          "output_type": "display_data",
          "data": {
            "text/plain": [
              "<Figure size 360x360 with 4 Axes>"
            ],
            "image/png": "[encoded data removed]"
          },
          "metadata": {
            "needs_background": "light"
          }
        }
      ]
    },
    {
      "cell_type": "code",
      "source": [
        "#@title 기본 제목 텍스트\n",
        "#실행시 오래 걸리기에 생략\n",
        "\n",
        "step=50\n",
        "thresholdd=15\n",
        "random_state=42\n",
        "L=14\n",
        "\n",
        "correct_data=dict(zip([i for i in range(10)], [0 for i in range(10)]))                        # 찾은 정답 확률\n",
        "worng_data=dict(zip([i for i in range(10)], [0 for i in range(10)]))                          # 못찾은 데이터들\n",
        "uncorrect_data=dict(zip([i for i in range(10)], [[0 for i in range(10)] for i in range(10)])) # 틀린 정답 위치들\n",
        "check=perceptron(L,107.10,3000,[0,1,9],[2,3,4],[5,6,7,8]) #124/039/5678\n",
        "\n",
        "for i in range(10):\n",
        "  print(i,end=' ')\n",
        "  for j in range(step):                         #각숫자 당 step 만큼의 랜덤의 숫자 입력\n",
        "    ori_img,img=random_number(i,L,thresholdd)\n",
        "    S,index=check.run(img)\n",
        "    if index==None:                             # 못찾은 데이터\n",
        "      worng_data[i]+=1\n",
        "    elif i==index:                              # 정답일 경우\n",
        "      correct_data[i]+=1/step*100\n",
        "    else :                                      # 틀린 정답일 경우\n",
        "      uncorrect_data[i][index]+=1\n",
        "\n"
      ],
      "metadata": {
        "colab": {
          "base_uri": "https://localhost:8080/",
          "height": 352
        },
        "cellView": "code",
        "id": "QxSjcdoiqjjB",
        "outputId": "db48f07e-3275-44b2-a3ce-3f92ef9b7478"
      },
      "execution_count": 12,
      "outputs": [
        {
          "output_type": "display_data",
          "data": {
            "text/plain": [
              "<Figure size 216x144 with 3 Axes>"
            ],
            "image/png": "[encoded data removed]"
          },
          "metadata": {
            "needs_background": "light"
          }
        },
        {
          "output_type": "display_data",
          "data": {
            "text/plain": [
              "<Figure size 216x144 with 3 Axes>"
            ],
            "image/png": "[encoded data removed]"
          },
          "metadata": {
            "needs_background": "light"
          }
        },
        {
          "output_type": "display_data",
          "data": {
            "text/plain": [
              "<Figure size 288x144 with 4 Axes>"
            ],
            "image/png": "[encoded data removed]"
          },
          "metadata": {
            "needs_background": "light"
          }
        },
        {
          "output_type": "stream",
          "name": "stdout",
          "text": [
            "0 1 2 3 4 5 6 7 8 9 "
          ]
        }
      ]
    },
    {
      "cell_type": "code",
      "source": [
        "print(correct_data)\n",
        "print(uncorrect_data)\n",
        "print(worng_data)"
      ],
      "metadata": {
        "colab": {
          "base_uri": "https://localhost:8080/"
        },
        "id": "9v10Ugv31NTv",
        "outputId": "120f4e19-fa5e-4c42-e563-d79311ce0cb7"
      },
      "execution_count": 13,
      "outputs": [
        {
          "output_type": "stream",
          "name": "stdout",
          "text": [
            "{0: 60.0, 1: 96.0, 2: 50.0, 3: 68.0, 4: 46.0, 5: 42.0, 6: 58.0, 7: 70.0, 8: 58.0, 9: 70.0}\n",
            "{0: [0, 3, 2, 2, 0, 4, 6, 1, 1, 0], 1: [0, 0, 0, 0, 0, 0, 0, 2, 0, 0], 2: [2, 7, 0, 2, 0, 0, 0, 10, 3, 1], 3: [0, 7, 0, 0, 0, 0, 0, 3, 4, 2], 4: [2, 6, 0, 0, 0, 1, 4, 3, 0, 9], 5: [2, 2, 0, 8, 0, 0, 2, 2, 0, 13], 6: [4, 3, 0, 2, 7, 1, 0, 0, 1, 2], 7: [0, 0, 2, 0, 2, 0, 0, 0, 0, 11], 8: [0, 2, 1, 3, 4, 1, 0, 1, 0, 9], 9: [0, 3, 0, 3, 5, 0, 0, 2, 0, 0]}\n",
            "{0: 1, 1: 0, 2: 0, 3: 0, 4: 2, 5: 0, 6: 1, 7: 0, 8: 0, 9: 2}\n"
          ]
        }
      ]
    },
    {
      "cell_type": "code",
      "source": [
        "un_correct_data_df=pd.DataFrame(uncorrect_data)\n",
        "\n",
        "correct_data_S=pd.Series(correct_data,\n",
        "                    index=[0,1,2,3,4,5,6,7,8,9])\n",
        "\n",
        "unfind_S=pd.Series(worng_data,\n",
        "                   index=[0,1,2,3,4,5,6,7,8,9])\n",
        "\n",
        "unfind_S.to_csv('01_unfind_data.csv')\n",
        "un_correct_data_df.T.to_csv('01_uncorrect_data.csv')\n",
        "correct_data_S.to_csv('01_correct_data.csv')"
      ],
      "metadata": {
        "id": "qkqqutSQHZvE"
      },
      "execution_count": 14,
      "outputs": []
    },
    {
      "cell_type": "code",
      "source": [
        "\n",
        "worng_percent=np.zeros((10))\n",
        "un_find_percent=np.zeros((10))\n",
        "total=[]\n",
        "most_confuse={}\n",
        "confu_data=[]\n",
        "for i in range(10):\n",
        "  un_find_percent[i]=sum(uncorrect_data[i])/step*100\n",
        "  worng_percent[i]=worng_data[i]/step*100\n",
        "  print(i,':',count_in(uncorrect_data[i]))\n",
        "  confu_data.append(uncorrect_data[i].index(max(count_in(uncorrect_data[i]))))\n",
        "  total.append(sum(uncorrect_data[i])/step*100+worng_data[i]/step*100+correct_data[i])\n",
        "print(confu_data)\n",
        "print(total)"
      ],
      "metadata": {
        "colab": {
          "base_uri": "https://localhost:8080/"
        },
        "id": "cuZ6mE0K-TB8",
        "outputId": "b49d784a-a07d-425f-ae9f-cbdd7c868bba"
      },
      "execution_count": 15,
      "outputs": [
        {
          "output_type": "stream",
          "name": "stdout",
          "text": [
            "0 : {0: 3, 1: 2, 2: 2, 3: 1, 4: 1, 6: 1}\n",
            "1 : {0: 9, 2: 1}\n",
            "2 : {0: 4, 1: 1, 2: 2, 3: 1, 7: 1, 10: 1}\n",
            "3 : {0: 6, 2: 1, 3: 1, 4: 1, 7: 1}\n",
            "4 : {0: 4, 1: 1, 2: 1, 3: 1, 4: 1, 6: 1, 9: 1}\n",
            "5 : {0: 4, 2: 4, 8: 1, 13: 1}\n",
            "6 : {0: 3, 1: 2, 2: 2, 3: 1, 4: 1, 7: 1}\n",
            "7 : {0: 7, 2: 2, 11: 1}\n",
            "8 : {0: 3, 1: 3, 2: 1, 3: 1, 4: 1, 9: 1}\n",
            "9 : {0: 6, 2: 1, 3: 2, 5: 1}\n",
            "[6, 7, 7, 1, 9, 9, 4, 9, 9, 4]\n",
            "[100.0, 100.0, 100.0, 100.0, 100.0, 100.0, 100.0, 100.0, 100.0, 100.0]\n"
          ]
        }
      ]
    },
    {
      "cell_type": "code",
      "source": [
        "\n",
        "a='Percent of correct classification (%)'\n",
        "b='Percent of incorrect classification (%)'\n",
        "c='Percent of spurious patterns (%)'\n",
        "d='most confused number'\n",
        "df=pd.DataFrame({a:correct_data,\n",
        "                b:worng_percent,\n",
        "                c:un_find_percent,\n",
        "                d:confu_data,\n",
        "                'total(%)':total},\n",
        "                index=[i for i in range(10)])\n",
        "df.to_csv('01_total data.csv')\n",
        "df"
      ],
      "metadata": {
        "colab": {
          "base_uri": "https://localhost:8080/",
          "height": 424
        },
        "id": "uJGO6s1W-whT",
        "outputId": "77bf1356-236a-4c38-f8a6-0f27806d6dac"
      },
      "execution_count": 16,
      "outputs": [
        {
          "output_type": "execute_result",
          "data": {
            "text/plain": [
              "   Percent of correct classification (%)  \\\n",
              "0                                   60.0   \n",
              "1                                   96.0   \n",
              "2                                   50.0   \n",
              "3                                   68.0   \n",
              "4                                   46.0   \n",
              "5                                   42.0   \n",
              "6                                   58.0   \n",
              "7                                   70.0   \n",
              "8                                   58.0   \n",
              "9                                   70.0   \n",
              "\n",
              "   Percent of incorrect classification (%)  Percent of spurious patterns (%)  \\\n",
              "0                                      2.0                              38.0   \n",
              "1                                      0.0                               4.0   \n",
              "2                                      0.0                              50.0   \n",
              "3                                      0.0                              32.0   \n",
              "4                                      4.0                              50.0   \n",
              "5                                      0.0                              58.0   \n",
              "6                                      2.0                              40.0   \n",
              "7                                      0.0                              30.0   \n",
              "8                                      0.0                              42.0   \n",
              "9                                      4.0                              26.0   \n",
              "\n",
              "   most confused number  total(%)  \n",
              "0                     6     100.0  \n",
              "1                     7     100.0  \n",
              "2                     7     100.0  \n",
              "3                     1     100.0  \n",
              "4                     9     100.0  \n",
              "5                     9     100.0  \n",
              "6                     4     100.0  \n",
              "7                     9     100.0  \n",
              "8                     9     100.0  \n",
              "9                     4     100.0  "
            ],
            "text/html": [
              "\n",
              "  <div id=\"df-a8aeb795-4969-4ef7-8be3-6c78b1187a94\">\n",
              "    <div class=\"colab-df-container\">\n",
              "      <div>\n",
              "<style scoped>\n",
              "    .dataframe tbody tr th:only-of-type {\n",
              "        vertical-align: middle;\n",
              "    }\n",
              "\n",
              "    .dataframe tbody tr th {\n",
              "        vertical-align: top;\n",
              "    }\n",
              "\n",
              "    .dataframe thead th {\n",
              "        text-align: right;\n",
              "    }\n",
              "</style>\n",
              "<table border=\"1\" class=\"dataframe\">\n",
              "  <thead>\n",
              "    <tr style=\"text-align: right;\">\n",
              "      <th></th>\n",
              "      <th>Percent of correct classification (%)</th>\n",
              "      <th>Percent of incorrect classification (%)</th>\n",
              "      <th>Percent of spurious patterns (%)</th>\n",
              "      <th>most confused number</th>\n",
              "      <th>total(%)</th>\n",
              "    </tr>\n",
              "  </thead>\n",
              "  <tbody>\n",
              "    <tr>\n",
              "      <th>0</th>\n",
              "      <td>60.0</td>\n",
              "      <td>2.0</td>\n",
              "      <td>38.0</td>\n",
              "      <td>6</td>\n",
              "      <td>100.0</td>\n",
              "    </tr>\n",
              "    <tr>\n",
              "      <th>1</th>\n",
              "      <td>96.0</td>\n",
              "      <td>0.0</td>\n",
              "      <td>4.0</td>\n",
              "      <td>7</td>\n",
              "      <td>100.0</td>\n",
              "    </tr>\n",
              "    <tr>\n",
              "      <th>2</th>\n",
              "      <td>50.0</td>\n",
              "      <td>0.0</td>\n",
              "      <td>50.0</td>\n",
              "      <td>7</td>\n",
              "      <td>100.0</td>\n",
              "    </tr>\n",
              "    <tr>\n",
              "      <th>3</th>\n",
              "      <td>68.0</td>\n",
              "      <td>0.0</td>\n",
              "      <td>32.0</td>\n",
              "      <td>1</td>\n",
              "      <td>100.0</td>\n",
              "    </tr>\n",
              "    <tr>\n",
              "      <th>4</th>\n",
              "      <td>46.0</td>\n",
              "      <td>4.0</td>\n",
              "      <td>50.0</td>\n",
              "      <td>9</td>\n",
              "      <td>100.0</td>\n",
              "    </tr>\n",
              "    <tr>\n",
              "      <th>5</th>\n",
              "      <td>42.0</td>\n",
              "      <td>0.0</td>\n",
              "      <td>58.0</td>\n",
              "      <td>9</td>\n",
              "      <td>100.0</td>\n",
              "    </tr>\n",
              "    <tr>\n",
              "      <th>6</th>\n",
              "      <td>58.0</td>\n",
              "      <td>2.0</td>\n",
              "      <td>40.0</td>\n",
              "      <td>4</td>\n",
              "      <td>100.0</td>\n",
              "    </tr>\n",
              "    <tr>\n",
              "      <th>7</th>\n",
              "      <td>70.0</td>\n",
              "      <td>0.0</td>\n",
              "      <td>30.0</td>\n",
              "      <td>9</td>\n",
              "      <td>100.0</td>\n",
              "    </tr>\n",
              "    <tr>\n",
              "      <th>8</th>\n",
              "      <td>58.0</td>\n",
              "      <td>0.0</td>\n",
              "      <td>42.0</td>\n",
              "      <td>9</td>\n",
              "      <td>100.0</td>\n",
              "    </tr>\n",
              "    <tr>\n",
              "      <th>9</th>\n",
              "      <td>70.0</td>\n",
              "      <td>4.0</td>\n",
              "      <td>26.0</td>\n",
              "      <td>4</td>\n",
              "      <td>100.0</td>\n",
              "    </tr>\n",
              "  </tbody>\n",
              "</table>\n",
              "</div>\n",
              "      <button class=\"colab-df-convert\" onclick=\"convertToInteractive('df-a8aeb795-4969-4ef7-8be3-6c78b1187a94')\"\n",
              "              title=\"Convert this dataframe to an interactive table.\"\n",
              "              style=\"display:none;\">\n",
              "        \n",
              "  <svg xmlns=\"http://www.w3.org/2000/svg\" height=\"24px\"viewBox=\"0 0 24 24\"\n",
              "       width=\"24px\">\n",
              "    <path d=\"M0 0h24v24H0V0z\" fill=\"none\"/>\n",
              "    <path d=\"M18.56 5.44l.94 2.06.94-2.06 2.06-.94-2.06-.94-.94-2.06-.94 2.06-2.06.94zm-11 1L8.5 8.5l.94-2.06 2.06-.94-2.06-.94L8.5 2.5l-.94 2.06-2.06.94zm10 10l.94 2.06.94-2.06 2.06-.94-2.06-.94-.94-2.06-.94 2.06-2.06.94z\"/><path d=\"M17.41 7.96l-1.37-1.37c-.4-.4-.92-.59-1.43-.59-.52 0-1.04.2-1.43.59L10.3 9.45l-7.72 7.72c-.78.78-.78 2.05 0 2.83L4 21.41c.39.39.9.59 1.41.59.51 0 1.02-.2 1.41-.59l7.78-7.78 2.81-2.81c.8-.78.8-2.07 0-2.86zM5.41 20L4 18.59l7.72-7.72 1.47 1.35L5.41 20z\"/>\n",
              "  </svg>\n",
              "      </button>\n",
              "      \n",
              "  <style>\n",
              "    .colab-df-container {\n",
              "      display:flex;\n",
              "      flex-wrap:wrap;\n",
              "      gap: 12px;\n",
              "    }\n",
              "\n",
              "    .colab-df-convert {\n",
              "      background-color: #E8F0FE;\n",
              "      border: none;\n",
              "      border-radius: 50%;\n",
              "      cursor: pointer;\n",
              "      display: none;\n",
              "      fill: #1967D2;\n",
              "      height: 32px;\n",
              "      padding: 0 0 0 0;\n",
              "      width: 32px;\n",
              "    }\n",
              "\n",
              "    .colab-df-convert:hover {\n",
              "      background-color: #E2EBFA;\n",
              "      box-shadow: 0px 1px 2px rgba(60, 64, 67, 0.3), 0px 1px 3px 1px rgba(60, 64, 67, 0.15);\n",
              "      fill: #174EA6;\n",
              "    }\n",
              "\n",
              "    [theme=dark] .colab-df-convert {\n",
              "      background-color: #3B4455;\n",
              "      fill: #D2E3FC;\n",
              "    }\n",
              "\n",
              "    [theme=dark] .colab-df-convert:hover {\n",
              "      background-color: #434B5C;\n",
              "      box-shadow: 0px 1px 3px 1px rgba(0, 0, 0, 0.15);\n",
              "      filter: drop-shadow(0px 1px 2px rgba(0, 0, 0, 0.3));\n",
              "      fill: #FFFFFF;\n",
              "    }\n",
              "  </style>\n",
              "\n",
              "      <script>\n",
              "        const buttonEl =\n",
              "          document.querySelector('#df-a8aeb795-4969-4ef7-8be3-6c78b1187a94 button.colab-df-convert');\n",
              "        buttonEl.style.display =\n",
              "          google.colab.kernel.accessAllowed ? 'block' : 'none';\n",
              "\n",
              "        async function convertToInteractive(key) {\n",
              "          const element = document.querySelector('#df-a8aeb795-4969-4ef7-8be3-6c78b1187a94');\n",
              "          const dataTable =\n",
              "            await google.colab.kernel.invokeFunction('convertToInteractive',\n",
              "                                                     [key], {});\n",
              "          if (!dataTable) return;\n",
              "\n",
              "          const docLinkHtml = 'Like what you see? Visit the ' +\n",
              "            '<a target=\"_blank\" href=https://colab.research.google.com/notebooks/data_table.ipynb>data table notebook</a>'\n",
              "            + ' to learn more about interactive tables.';\n",
              "          element.innerHTML = '';\n",
              "          dataTable['output_type'] = 'display_data';\n",
              "          await google.colab.output.renderOutput(dataTable, element);\n",
              "          const docLink = document.createElement('div');\n",
              "          docLink.innerHTML = docLinkHtml;\n",
              "          element.appendChild(docLink);\n",
              "        }\n",
              "      </script>\n",
              "    </div>\n",
              "  </div>\n",
              "  "
            ]
          },
          "metadata": {},
          "execution_count": 16
        }
      ]
    },
    {
      "cell_type": "code",
      "source": [
        "first_df=pd.read_csv('/content/drive/MyDrive/datafolder/final project/total data.csv')\n",
        "first_df"
      ],
      "metadata": {
        "colab": {
          "base_uri": "https://localhost:8080/",
          "height": 424
        },
        "id": "5YmpTjcsUPW1",
        "outputId": "ef10ccd6-a32a-4cec-c4a2-0b8d924a215e"
      },
      "execution_count": 3,
      "outputs": [
        {
          "output_type": "execute_result",
          "data": {
            "text/plain": [
              "   Unnamed: 0  Percent of correct classification (%)  \\\n",
              "0           0                                   62.0   \n",
              "1           1                                   94.0   \n",
              "2           2                                   52.0   \n",
              "3           3                                   82.0   \n",
              "4           4                                   50.0   \n",
              "5           5                                   48.0   \n",
              "6           6                                   56.0   \n",
              "7           7                                   54.0   \n",
              "8           8                                   46.0   \n",
              "9           9                                   56.0   \n",
              "\n",
              "   Percent of incorrect classification (%)  Percent of spurious patterns (%)  \\\n",
              "0                                      0.0                              38.0   \n",
              "1                                      0.0                               6.0   \n",
              "2                                      0.0                              48.0   \n",
              "3                                      2.0                              16.0   \n",
              "4                                      4.0                              46.0   \n",
              "5                                      0.0                              52.0   \n",
              "6                                      0.0                              44.0   \n",
              "7                                      0.0                              46.0   \n",
              "8                                      2.0                              52.0   \n",
              "9                                      4.0                              40.0   \n",
              "\n",
              "   most confused number  total(%)  \n",
              "0                     6     100.0  \n",
              "1                     0     100.0  \n",
              "2                     8     100.0  \n",
              "3                     1     100.0  \n",
              "4                     9     100.0  \n",
              "5                     9     100.0  \n",
              "6                     1     100.0  \n",
              "7                     9     100.0  \n",
              "8                     9     100.0  \n",
              "9                     0     100.0  "
            ],
            "text/html": [
              "\n",
              "  <div id=\"df-dbfc2ebb-3e91-447f-8606-f5c75225dfff\">\n",
              "    <div class=\"colab-df-container\">\n",
              "      <div>\n",
              "<style scoped>\n",
              "    .dataframe tbody tr th:only-of-type {\n",
              "        vertical-align: middle;\n",
              "    }\n",
              "\n",
              "    .dataframe tbody tr th {\n",
              "        vertical-align: top;\n",
              "    }\n",
              "\n",
              "    .dataframe thead th {\n",
              "        text-align: right;\n",
              "    }\n",
              "</style>\n",
              "<table border=\"1\" class=\"dataframe\">\n",
              "  <thead>\n",
              "    <tr style=\"text-align: right;\">\n",
              "      <th></th>\n",
              "      <th>Unnamed: 0</th>\n",
              "      <th>Percent of correct classification (%)</th>\n",
              "      <th>Percent of incorrect classification (%)</th>\n",
              "      <th>Percent of spurious patterns (%)</th>\n",
              "      <th>most confused number</th>\n",
              "      <th>total(%)</th>\n",
              "    </tr>\n",
              "  </thead>\n",
              "  <tbody>\n",
              "    <tr>\n",
              "      <th>0</th>\n",
              "      <td>0</td>\n",
              "      <td>62.0</td>\n",
              "      <td>0.0</td>\n",
              "      <td>38.0</td>\n",
              "      <td>6</td>\n",
              "      <td>100.0</td>\n",
              "    </tr>\n",
              "    <tr>\n",
              "      <th>1</th>\n",
              "      <td>1</td>\n",
              "      <td>94.0</td>\n",
              "      <td>0.0</td>\n",
              "      <td>6.0</td>\n",
              "      <td>0</td>\n",
              "      <td>100.0</td>\n",
              "    </tr>\n",
              "    <tr>\n",
              "      <th>2</th>\n",
              "      <td>2</td>\n",
              "      <td>52.0</td>\n",
              "      <td>0.0</td>\n",
              "      <td>48.0</td>\n",
              "      <td>8</td>\n",
              "      <td>100.0</td>\n",
              "    </tr>\n",
              "    <tr>\n",
              "      <th>3</th>\n",
              "      <td>3</td>\n",
              "      <td>82.0</td>\n",
              "      <td>2.0</td>\n",
              "      <td>16.0</td>\n",
              "      <td>1</td>\n",
              "      <td>100.0</td>\n",
              "    </tr>\n",
              "    <tr>\n",
              "      <th>4</th>\n",
              "      <td>4</td>\n",
              "      <td>50.0</td>\n",
              "      <td>4.0</td>\n",
              "      <td>46.0</td>\n",
              "      <td>9</td>\n",
              "      <td>100.0</td>\n",
              "    </tr>\n",
              "    <tr>\n",
              "      <th>5</th>\n",
              "      <td>5</td>\n",
              "      <td>48.0</td>\n",
              "      <td>0.0</td>\n",
              "      <td>52.0</td>\n",
              "      <td>9</td>\n",
              "      <td>100.0</td>\n",
              "    </tr>\n",
              "    <tr>\n",
              "      <th>6</th>\n",
              "      <td>6</td>\n",
              "      <td>56.0</td>\n",
              "      <td>0.0</td>\n",
              "      <td>44.0</td>\n",
              "      <td>1</td>\n",
              "      <td>100.0</td>\n",
              "    </tr>\n",
              "    <tr>\n",
              "      <th>7</th>\n",
              "      <td>7</td>\n",
              "      <td>54.0</td>\n",
              "      <td>0.0</td>\n",
              "      <td>46.0</td>\n",
              "      <td>9</td>\n",
              "      <td>100.0</td>\n",
              "    </tr>\n",
              "    <tr>\n",
              "      <th>8</th>\n",
              "      <td>8</td>\n",
              "      <td>46.0</td>\n",
              "      <td>2.0</td>\n",
              "      <td>52.0</td>\n",
              "      <td>9</td>\n",
              "      <td>100.0</td>\n",
              "    </tr>\n",
              "    <tr>\n",
              "      <th>9</th>\n",
              "      <td>9</td>\n",
              "      <td>56.0</td>\n",
              "      <td>4.0</td>\n",
              "      <td>40.0</td>\n",
              "      <td>0</td>\n",
              "      <td>100.0</td>\n",
              "    </tr>\n",
              "  </tbody>\n",
              "</table>\n",
              "</div>\n",
              "      <button class=\"colab-df-convert\" onclick=\"convertToInteractive('df-dbfc2ebb-3e91-447f-8606-f5c75225dfff')\"\n",
              "              title=\"Convert this dataframe to an interactive table.\"\n",
              "              style=\"display:none;\">\n",
              "        \n",
              "  <svg xmlns=\"http://www.w3.org/2000/svg\" height=\"24px\"viewBox=\"0 0 24 24\"\n",
              "       width=\"24px\">\n",
              "    <path d=\"M0 0h24v24H0V0z\" fill=\"none\"/>\n",
              "    <path d=\"M18.56 5.44l.94 2.06.94-2.06 2.06-.94-2.06-.94-.94-2.06-.94 2.06-2.06.94zm-11 1L8.5 8.5l.94-2.06 2.06-.94-2.06-.94L8.5 2.5l-.94 2.06-2.06.94zm10 10l.94 2.06.94-2.06 2.06-.94-2.06-.94-.94-2.06-.94 2.06-2.06.94z\"/><path d=\"M17.41 7.96l-1.37-1.37c-.4-.4-.92-.59-1.43-.59-.52 0-1.04.2-1.43.59L10.3 9.45l-7.72 7.72c-.78.78-.78 2.05 0 2.83L4 21.41c.39.39.9.59 1.41.59.51 0 1.02-.2 1.41-.59l7.78-7.78 2.81-2.81c.8-.78.8-2.07 0-2.86zM5.41 20L4 18.59l7.72-7.72 1.47 1.35L5.41 20z\"/>\n",
              "  </svg>\n",
              "      </button>\n",
              "      \n",
              "  <style>\n",
              "    .colab-df-container {\n",
              "      display:flex;\n",
              "      flex-wrap:wrap;\n",
              "      gap: 12px;\n",
              "    }\n",
              "\n",
              "    .colab-df-convert {\n",
              "      background-color: #E8F0FE;\n",
              "      border: none;\n",
              "      border-radius: 50%;\n",
              "      cursor: pointer;\n",
              "      display: none;\n",
              "      fill: #1967D2;\n",
              "      height: 32px;\n",
              "      padding: 0 0 0 0;\n",
              "      width: 32px;\n",
              "    }\n",
              "\n",
              "    .colab-df-convert:hover {\n",
              "      background-color: #E2EBFA;\n",
              "      box-shadow: 0px 1px 2px rgba(60, 64, 67, 0.3), 0px 1px 3px 1px rgba(60, 64, 67, 0.15);\n",
              "      fill: #174EA6;\n",
              "    }\n",
              "\n",
              "    [theme=dark] .colab-df-convert {\n",
              "      background-color: #3B4455;\n",
              "      fill: #D2E3FC;\n",
              "    }\n",
              "\n",
              "    [theme=dark] .colab-df-convert:hover {\n",
              "      background-color: #434B5C;\n",
              "      box-shadow: 0px 1px 3px 1px rgba(0, 0, 0, 0.15);\n",
              "      filter: drop-shadow(0px 1px 2px rgba(0, 0, 0, 0.3));\n",
              "      fill: #FFFFFF;\n",
              "    }\n",
              "  </style>\n",
              "\n",
              "      <script>\n",
              "        const buttonEl =\n",
              "          document.querySelector('#df-dbfc2ebb-3e91-447f-8606-f5c75225dfff button.colab-df-convert');\n",
              "        buttonEl.style.display =\n",
              "          google.colab.kernel.accessAllowed ? 'block' : 'none';\n",
              "\n",
              "        async function convertToInteractive(key) {\n",
              "          const element = document.querySelector('#df-dbfc2ebb-3e91-447f-8606-f5c75225dfff');\n",
              "          const dataTable =\n",
              "            await google.colab.kernel.invokeFunction('convertToInteractive',\n",
              "                                                     [key], {});\n",
              "          if (!dataTable) return;\n",
              "\n",
              "          const docLinkHtml = 'Like what you see? Visit the ' +\n",
              "            '<a target=\"_blank\" href=https://colab.research.google.com/notebooks/data_table.ipynb>data table notebook</a>'\n",
              "            + ' to learn more about interactive tables.';\n",
              "          element.innerHTML = '';\n",
              "          dataTable['output_type'] = 'display_data';\n",
              "          await google.colab.output.renderOutput(dataTable, element);\n",
              "          const docLink = document.createElement('div');\n",
              "          docLink.innerHTML = docLinkHtml;\n",
              "          element.appendChild(docLink);\n",
              "        }\n",
              "      </script>\n",
              "    </div>\n",
              "  </div>\n",
              "  "
            ]
          },
          "metadata": {},
          "execution_count": 3
        }
      ]
    },
    {
      "cell_type": "code",
      "source": [
        "second_df=pd.read_csv('/content/drive/MyDrive/datafolder/final project/01_total data.csv')\n",
        "second_df"
      ],
      "metadata": {
        "colab": {
          "base_uri": "https://localhost:8080/",
          "height": 424
        },
        "id": "HCQHyastbkCN",
        "outputId": "dda60fe7-134c-406a-aba5-aa50d3dc1fc8"
      },
      "execution_count": 4,
      "outputs": [
        {
          "output_type": "execute_result",
          "data": {
            "text/plain": [
              "   Unnamed: 0  Percent of correct classification (%)  \\\n",
              "0           0                                   60.0   \n",
              "1           1                                   96.0   \n",
              "2           2                                   50.0   \n",
              "3           3                                   68.0   \n",
              "4           4                                   46.0   \n",
              "5           5                                   42.0   \n",
              "6           6                                   58.0   \n",
              "7           7                                   70.0   \n",
              "8           8                                   58.0   \n",
              "9           9                                   70.0   \n",
              "\n",
              "   Percent of incorrect classification (%)  Percent of spurious patterns (%)  \\\n",
              "0                                      2.0                              38.0   \n",
              "1                                      0.0                               4.0   \n",
              "2                                      0.0                              50.0   \n",
              "3                                      0.0                              32.0   \n",
              "4                                      4.0                              50.0   \n",
              "5                                      0.0                              58.0   \n",
              "6                                      2.0                              40.0   \n",
              "7                                      0.0                              30.0   \n",
              "8                                      0.0                              42.0   \n",
              "9                                      4.0                              26.0   \n",
              "\n",
              "   most confused number  total(%)  \n",
              "0                     6     100.0  \n",
              "1                     7     100.0  \n",
              "2                     7     100.0  \n",
              "3                     1     100.0  \n",
              "4                     9     100.0  \n",
              "5                     9     100.0  \n",
              "6                     4     100.0  \n",
              "7                     9     100.0  \n",
              "8                     9     100.0  \n",
              "9                     4     100.0  "
            ],
            "text/html": [
              "\n",
              "  <div id=\"df-1a1d8799-535e-41d6-8605-2e3373185014\">\n",
              "    <div class=\"colab-df-container\">\n",
              "      <div>\n",
              "<style scoped>\n",
              "    .dataframe tbody tr th:only-of-type {\n",
              "        vertical-align: middle;\n",
              "    }\n",
              "\n",
              "    .dataframe tbody tr th {\n",
              "        vertical-align: top;\n",
              "    }\n",
              "\n",
              "    .dataframe thead th {\n",
              "        text-align: right;\n",
              "    }\n",
              "</style>\n",
              "<table border=\"1\" class=\"dataframe\">\n",
              "  <thead>\n",
              "    <tr style=\"text-align: right;\">\n",
              "      <th></th>\n",
              "      <th>Unnamed: 0</th>\n",
              "      <th>Percent of correct classification (%)</th>\n",
              "      <th>Percent of incorrect classification (%)</th>\n",
              "      <th>Percent of spurious patterns (%)</th>\n",
              "      <th>most confused number</th>\n",
              "      <th>total(%)</th>\n",
              "    </tr>\n",
              "  </thead>\n",
              "  <tbody>\n",
              "    <tr>\n",
              "      <th>0</th>\n",
              "      <td>0</td>\n",
              "      <td>60.0</td>\n",
              "      <td>2.0</td>\n",
              "      <td>38.0</td>\n",
              "      <td>6</td>\n",
              "      <td>100.0</td>\n",
              "    </tr>\n",
              "    <tr>\n",
              "      <th>1</th>\n",
              "      <td>1</td>\n",
              "      <td>96.0</td>\n",
              "      <td>0.0</td>\n",
              "      <td>4.0</td>\n",
              "      <td>7</td>\n",
              "      <td>100.0</td>\n",
              "    </tr>\n",
              "    <tr>\n",
              "      <th>2</th>\n",
              "      <td>2</td>\n",
              "      <td>50.0</td>\n",
              "      <td>0.0</td>\n",
              "      <td>50.0</td>\n",
              "      <td>7</td>\n",
              "      <td>100.0</td>\n",
              "    </tr>\n",
              "    <tr>\n",
              "      <th>3</th>\n",
              "      <td>3</td>\n",
              "      <td>68.0</td>\n",
              "      <td>0.0</td>\n",
              "      <td>32.0</td>\n",
              "      <td>1</td>\n",
              "      <td>100.0</td>\n",
              "    </tr>\n",
              "    <tr>\n",
              "      <th>4</th>\n",
              "      <td>4</td>\n",
              "      <td>46.0</td>\n",
              "      <td>4.0</td>\n",
              "      <td>50.0</td>\n",
              "      <td>9</td>\n",
              "      <td>100.0</td>\n",
              "    </tr>\n",
              "    <tr>\n",
              "      <th>5</th>\n",
              "      <td>5</td>\n",
              "      <td>42.0</td>\n",
              "      <td>0.0</td>\n",
              "      <td>58.0</td>\n",
              "      <td>9</td>\n",
              "      <td>100.0</td>\n",
              "    </tr>\n",
              "    <tr>\n",
              "      <th>6</th>\n",
              "      <td>6</td>\n",
              "      <td>58.0</td>\n",
              "      <td>2.0</td>\n",
              "      <td>40.0</td>\n",
              "      <td>4</td>\n",
              "      <td>100.0</td>\n",
              "    </tr>\n",
              "    <tr>\n",
              "      <th>7</th>\n",
              "      <td>7</td>\n",
              "      <td>70.0</td>\n",
              "      <td>0.0</td>\n",
              "      <td>30.0</td>\n",
              "      <td>9</td>\n",
              "      <td>100.0</td>\n",
              "    </tr>\n",
              "    <tr>\n",
              "      <th>8</th>\n",
              "      <td>8</td>\n",
              "      <td>58.0</td>\n",
              "      <td>0.0</td>\n",
              "      <td>42.0</td>\n",
              "      <td>9</td>\n",
              "      <td>100.0</td>\n",
              "    </tr>\n",
              "    <tr>\n",
              "      <th>9</th>\n",
              "      <td>9</td>\n",
              "      <td>70.0</td>\n",
              "      <td>4.0</td>\n",
              "      <td>26.0</td>\n",
              "      <td>4</td>\n",
              "      <td>100.0</td>\n",
              "    </tr>\n",
              "  </tbody>\n",
              "</table>\n",
              "</div>\n",
              "      <button class=\"colab-df-convert\" onclick=\"convertToInteractive('df-1a1d8799-535e-41d6-8605-2e3373185014')\"\n",
              "              title=\"Convert this dataframe to an interactive table.\"\n",
              "              style=\"display:none;\">\n",
              "        \n",
              "  <svg xmlns=\"http://www.w3.org/2000/svg\" height=\"24px\"viewBox=\"0 0 24 24\"\n",
              "       width=\"24px\">\n",
              "    <path d=\"M0 0h24v24H0V0z\" fill=\"none\"/>\n",
              "    <path d=\"M18.56 5.44l.94 2.06.94-2.06 2.06-.94-2.06-.94-.94-2.06-.94 2.06-2.06.94zm-11 1L8.5 8.5l.94-2.06 2.06-.94-2.06-.94L8.5 2.5l-.94 2.06-2.06.94zm10 10l.94 2.06.94-2.06 2.06-.94-2.06-.94-.94-2.06-.94 2.06-2.06.94z\"/><path d=\"M17.41 7.96l-1.37-1.37c-.4-.4-.92-.59-1.43-.59-.52 0-1.04.2-1.43.59L10.3 9.45l-7.72 7.72c-.78.78-.78 2.05 0 2.83L4 21.41c.39.39.9.59 1.41.59.51 0 1.02-.2 1.41-.59l7.78-7.78 2.81-2.81c.8-.78.8-2.07 0-2.86zM5.41 20L4 18.59l7.72-7.72 1.47 1.35L5.41 20z\"/>\n",
              "  </svg>\n",
              "      </button>\n",
              "      \n",
              "  <style>\n",
              "    .colab-df-container {\n",
              "      display:flex;\n",
              "      flex-wrap:wrap;\n",
              "      gap: 12px;\n",
              "    }\n",
              "\n",
              "    .colab-df-convert {\n",
              "      background-color: #E8F0FE;\n",
              "      border: none;\n",
              "      border-radius: 50%;\n",
              "      cursor: pointer;\n",
              "      display: none;\n",
              "      fill: #1967D2;\n",
              "      height: 32px;\n",
              "      padding: 0 0 0 0;\n",
              "      width: 32px;\n",
              "    }\n",
              "\n",
              "    .colab-df-convert:hover {\n",
              "      background-color: #E2EBFA;\n",
              "      box-shadow: 0px 1px 2px rgba(60, 64, 67, 0.3), 0px 1px 3px 1px rgba(60, 64, 67, 0.15);\n",
              "      fill: #174EA6;\n",
              "    }\n",
              "\n",
              "    [theme=dark] .colab-df-convert {\n",
              "      background-color: #3B4455;\n",
              "      fill: #D2E3FC;\n",
              "    }\n",
              "\n",
              "    [theme=dark] .colab-df-convert:hover {\n",
              "      background-color: #434B5C;\n",
              "      box-shadow: 0px 1px 3px 1px rgba(0, 0, 0, 0.15);\n",
              "      filter: drop-shadow(0px 1px 2px rgba(0, 0, 0, 0.3));\n",
              "      fill: #FFFFFF;\n",
              "    }\n",
              "  </style>\n",
              "\n",
              "      <script>\n",
              "        const buttonEl =\n",
              "          document.querySelector('#df-1a1d8799-535e-41d6-8605-2e3373185014 button.colab-df-convert');\n",
              "        buttonEl.style.display =\n",
              "          google.colab.kernel.accessAllowed ? 'block' : 'none';\n",
              "\n",
              "        async function convertToInteractive(key) {\n",
              "          const element = document.querySelector('#df-1a1d8799-535e-41d6-8605-2e3373185014');\n",
              "          const dataTable =\n",
              "            await google.colab.kernel.invokeFunction('convertToInteractive',\n",
              "                                                     [key], {});\n",
              "          if (!dataTable) return;\n",
              "\n",
              "          const docLinkHtml = 'Like what you see? Visit the ' +\n",
              "            '<a target=\"_blank\" href=https://colab.research.google.com/notebooks/data_table.ipynb>data table notebook</a>'\n",
              "            + ' to learn more about interactive tables.';\n",
              "          element.innerHTML = '';\n",
              "          dataTable['output_type'] = 'display_data';\n",
              "          await google.colab.output.renderOutput(dataTable, element);\n",
              "          const docLink = document.createElement('div');\n",
              "          docLink.innerHTML = docLinkHtml;\n",
              "          element.appendChild(docLink);\n",
              "        }\n",
              "      </script>\n",
              "    </div>\n",
              "  </div>\n",
              "  "
            ]
          },
          "metadata": {},
          "execution_count": 4
        }
      ]
    },
    {
      "cell_type": "code",
      "source": [
        "a='Percent of correct classification (%)'\n",
        "b='Percent of incorrect classification (%)'\n",
        "c='Percent of spurious patterns (%)'\n",
        "d='most confused number'\n",
        "print(first_df[a])\n",
        "print(second_df[a])\n",
        "print(np.sum(first_df[a].values)/10)\n",
        "print(np.sum(second_df[a].values)/10)"
      ],
      "metadata": {
        "colab": {
          "base_uri": "https://localhost:8080/"
        },
        "id": "meo-y56KV9-Q",
        "outputId": "82f89748-5fe4-462b-baed-d2542a4283d8"
      },
      "execution_count": 6,
      "outputs": [
        {
          "output_type": "stream",
          "name": "stdout",
          "text": [
            "0    62.0\n",
            "1    94.0\n",
            "2    52.0\n",
            "3    82.0\n",
            "4    50.0\n",
            "5    48.0\n",
            "6    56.0\n",
            "7    54.0\n",
            "8    46.0\n",
            "9    56.0\n",
            "Name: Percent of correct classification (%), dtype: float64\n",
            "0    60.0\n",
            "1    96.0\n",
            "2    50.0\n",
            "3    68.0\n",
            "4    46.0\n",
            "5    42.0\n",
            "6    58.0\n",
            "7    70.0\n",
            "8    58.0\n",
            "9    70.0\n",
            "Name: Percent of correct classification (%), dtype: float64\n",
            "60.0\n",
            "61.8\n"
          ]
        }
      ]
    },
    {
      "cell_type": "code",
      "source": [
        "first_df.describe()"
      ],
      "metadata": {
        "colab": {
          "base_uri": "https://localhost:8080/",
          "height": 362
        },
        "id": "pKPwPWzJYXd_",
        "outputId": "61b8ef09-5d53-44c2-d8d0-ea8a9ce7c510"
      },
      "execution_count": 8,
      "outputs": [
        {
          "output_type": "execute_result",
          "data": {
            "text/plain": [
              "       Unnamed: 0  Percent of correct classification (%)  \\\n",
              "count    10.00000                               10.00000   \n",
              "mean      4.50000                               60.00000   \n",
              "std       3.02765                               15.69147   \n",
              "min       0.00000                               46.00000   \n",
              "25%       2.25000                               50.50000   \n",
              "50%       4.50000                               55.00000   \n",
              "75%       6.75000                               60.50000   \n",
              "max       9.00000                               94.00000   \n",
              "\n",
              "       Percent of incorrect classification (%)  \\\n",
              "count                                10.000000   \n",
              "mean                                  1.200000   \n",
              "std                                   1.686548   \n",
              "min                                   0.000000   \n",
              "25%                                   0.000000   \n",
              "50%                                   0.000000   \n",
              "75%                                   2.000000   \n",
              "max                                   4.000000   \n",
              "\n",
              "       Percent of spurious patterns (%)  most confused number  total(%)  \n",
              "count                          10.00000             10.000000      10.0  \n",
              "mean                           38.80000              5.200000     100.0  \n",
              "std                            15.49767              4.157991       0.0  \n",
              "min                             6.00000              0.000000     100.0  \n",
              "25%                            38.50000              1.000000     100.0  \n",
              "50%                            45.00000              7.000000     100.0  \n",
              "75%                            47.50000              9.000000     100.0  \n",
              "max                            52.00000              9.000000     100.0  "
            ],
            "text/html": [
              "\n",
              "  <div id=\"df-cd4e6bf3-2443-49f7-a73c-ad3753f6adcd\">\n",
              "    <div class=\"colab-df-container\">\n",
              "      <div>\n",
              "<style scoped>\n",
              "    .dataframe tbody tr th:only-of-type {\n",
              "        vertical-align: middle;\n",
              "    }\n",
              "\n",
              "    .dataframe tbody tr th {\n",
              "        vertical-align: top;\n",
              "    }\n",
              "\n",
              "    .dataframe thead th {\n",
              "        text-align: right;\n",
              "    }\n",
              "</style>\n",
              "<table border=\"1\" class=\"dataframe\">\n",
              "  <thead>\n",
              "    <tr style=\"text-align: right;\">\n",
              "      <th></th>\n",
              "      <th>Unnamed: 0</th>\n",
              "      <th>Percent of correct classification (%)</th>\n",
              "      <th>Percent of incorrect classification (%)</th>\n",
              "      <th>Percent of spurious patterns (%)</th>\n",
              "      <th>most confused number</th>\n",
              "      <th>total(%)</th>\n",
              "    </tr>\n",
              "  </thead>\n",
              "  <tbody>\n",
              "    <tr>\n",
              "      <th>count</th>\n",
              "      <td>10.00000</td>\n",
              "      <td>10.00000</td>\n",
              "      <td>10.000000</td>\n",
              "      <td>10.00000</td>\n",
              "      <td>10.000000</td>\n",
              "      <td>10.0</td>\n",
              "    </tr>\n",
              "    <tr>\n",
              "      <th>mean</th>\n",
              "      <td>4.50000</td>\n",
              "      <td>60.00000</td>\n",
              "      <td>1.200000</td>\n",
              "      <td>38.80000</td>\n",
              "      <td>5.200000</td>\n",
              "      <td>100.0</td>\n",
              "    </tr>\n",
              "    <tr>\n",
              "      <th>std</th>\n",
              "      <td>3.02765</td>\n",
              "      <td>15.69147</td>\n",
              "      <td>1.686548</td>\n",
              "      <td>15.49767</td>\n",
              "      <td>4.157991</td>\n",
              "      <td>0.0</td>\n",
              "    </tr>\n",
              "    <tr>\n",
              "      <th>min</th>\n",
              "      <td>0.00000</td>\n",
              "      <td>46.00000</td>\n",
              "      <td>0.000000</td>\n",
              "      <td>6.00000</td>\n",
              "      <td>0.000000</td>\n",
              "      <td>100.0</td>\n",
              "    </tr>\n",
              "    <tr>\n",
              "      <th>25%</th>\n",
              "      <td>2.25000</td>\n",
              "      <td>50.50000</td>\n",
              "      <td>0.000000</td>\n",
              "      <td>38.50000</td>\n",
              "      <td>1.000000</td>\n",
              "      <td>100.0</td>\n",
              "    </tr>\n",
              "    <tr>\n",
              "      <th>50%</th>\n",
              "      <td>4.50000</td>\n",
              "      <td>55.00000</td>\n",
              "      <td>0.000000</td>\n",
              "      <td>45.00000</td>\n",
              "      <td>7.000000</td>\n",
              "      <td>100.0</td>\n",
              "    </tr>\n",
              "    <tr>\n",
              "      <th>75%</th>\n",
              "      <td>6.75000</td>\n",
              "      <td>60.50000</td>\n",
              "      <td>2.000000</td>\n",
              "      <td>47.50000</td>\n",
              "      <td>9.000000</td>\n",
              "      <td>100.0</td>\n",
              "    </tr>\n",
              "    <tr>\n",
              "      <th>max</th>\n",
              "      <td>9.00000</td>\n",
              "      <td>94.00000</td>\n",
              "      <td>4.000000</td>\n",
              "      <td>52.00000</td>\n",
              "      <td>9.000000</td>\n",
              "      <td>100.0</td>\n",
              "    </tr>\n",
              "  </tbody>\n",
              "</table>\n",
              "</div>\n",
              "      <button class=\"colab-df-convert\" onclick=\"convertToInteractive('df-cd4e6bf3-2443-49f7-a73c-ad3753f6adcd')\"\n",
              "              title=\"Convert this dataframe to an interactive table.\"\n",
              "              style=\"display:none;\">\n",
              "        \n",
              "  <svg xmlns=\"http://www.w3.org/2000/svg\" height=\"24px\"viewBox=\"0 0 24 24\"\n",
              "       width=\"24px\">\n",
              "    <path d=\"M0 0h24v24H0V0z\" fill=\"none\"/>\n",
              "    <path d=\"M18.56 5.44l.94 2.06.94-2.06 2.06-.94-2.06-.94-.94-2.06-.94 2.06-2.06.94zm-11 1L8.5 8.5l.94-2.06 2.06-.94-2.06-.94L8.5 2.5l-.94 2.06-2.06.94zm10 10l.94 2.06.94-2.06 2.06-.94-2.06-.94-.94-2.06-.94 2.06-2.06.94z\"/><path d=\"M17.41 7.96l-1.37-1.37c-.4-.4-.92-.59-1.43-.59-.52 0-1.04.2-1.43.59L10.3 9.45l-7.72 7.72c-.78.78-.78 2.05 0 2.83L4 21.41c.39.39.9.59 1.41.59.51 0 1.02-.2 1.41-.59l7.78-7.78 2.81-2.81c.8-.78.8-2.07 0-2.86zM5.41 20L4 18.59l7.72-7.72 1.47 1.35L5.41 20z\"/>\n",
              "  </svg>\n",
              "      </button>\n",
              "      \n",
              "  <style>\n",
              "    .colab-df-container {\n",
              "      display:flex;\n",
              "      flex-wrap:wrap;\n",
              "      gap: 12px;\n",
              "    }\n",
              "\n",
              "    .colab-df-convert {\n",
              "      background-color: #E8F0FE;\n",
              "      border: none;\n",
              "      border-radius: 50%;\n",
              "      cursor: pointer;\n",
              "      display: none;\n",
              "      fill: #1967D2;\n",
              "      height: 32px;\n",
              "      padding: 0 0 0 0;\n",
              "      width: 32px;\n",
              "    }\n",
              "\n",
              "    .colab-df-convert:hover {\n",
              "      background-color: #E2EBFA;\n",
              "      box-shadow: 0px 1px 2px rgba(60, 64, 67, 0.3), 0px 1px 3px 1px rgba(60, 64, 67, 0.15);\n",
              "      fill: #174EA6;\n",
              "    }\n",
              "\n",
              "    [theme=dark] .colab-df-convert {\n",
              "      background-color: #3B4455;\n",
              "      fill: #D2E3FC;\n",
              "    }\n",
              "\n",
              "    [theme=dark] .colab-df-convert:hover {\n",
              "      background-color: #434B5C;\n",
              "      box-shadow: 0px 1px 3px 1px rgba(0, 0, 0, 0.15);\n",
              "      filter: drop-shadow(0px 1px 2px rgba(0, 0, 0, 0.3));\n",
              "      fill: #FFFFFF;\n",
              "    }\n",
              "  </style>\n",
              "\n",
              "      <script>\n",
              "        const buttonEl =\n",
              "          document.querySelector('#df-cd4e6bf3-2443-49f7-a73c-ad3753f6adcd button.colab-df-convert');\n",
              "        buttonEl.style.display =\n",
              "          google.colab.kernel.accessAllowed ? 'block' : 'none';\n",
              "\n",
              "        async function convertToInteractive(key) {\n",
              "          const element = document.querySelector('#df-cd4e6bf3-2443-49f7-a73c-ad3753f6adcd');\n",
              "          const dataTable =\n",
              "            await google.colab.kernel.invokeFunction('convertToInteractive',\n",
              "                                                     [key], {});\n",
              "          if (!dataTable) return;\n",
              "\n",
              "          const docLinkHtml = 'Like what you see? Visit the ' +\n",
              "            '<a target=\"_blank\" href=https://colab.research.google.com/notebooks/data_table.ipynb>data table notebook</a>'\n",
              "            + ' to learn more about interactive tables.';\n",
              "          element.innerHTML = '';\n",
              "          dataTable['output_type'] = 'display_data';\n",
              "          await google.colab.output.renderOutput(dataTable, element);\n",
              "          const docLink = document.createElement('div');\n",
              "          docLink.innerHTML = docLinkHtml;\n",
              "          element.appendChild(docLink);\n",
              "        }\n",
              "      </script>\n",
              "    </div>\n",
              "  </div>\n",
              "  "
            ]
          },
          "metadata": {},
          "execution_count": 8
        }
      ]
    },
    {
      "cell_type": "code",
      "source": [
        "second_df.describe()"
      ],
      "metadata": {
        "colab": {
          "base_uri": "https://localhost:8080/",
          "height": 362
        },
        "id": "7pw7ih4ncdEc",
        "outputId": "4f2649f1-36ff-47f8-9b2c-bdbee0f7333a"
      },
      "execution_count": 11,
      "outputs": [
        {
          "output_type": "execute_result",
          "data": {
            "text/plain": [
              "       Unnamed: 0  Percent of correct classification (%)  \\\n",
              "count    10.00000                              10.000000   \n",
              "mean      4.50000                              61.800000   \n",
              "std       3.02765                              15.476147   \n",
              "min       0.00000                              42.000000   \n",
              "25%       2.25000                              52.000000   \n",
              "50%       4.50000                              59.000000   \n",
              "75%       6.75000                              69.500000   \n",
              "max       9.00000                              96.000000   \n",
              "\n",
              "       Percent of incorrect classification (%)  \\\n",
              "count                                10.000000   \n",
              "mean                                  1.200000   \n",
              "std                                   1.686548   \n",
              "min                                   0.000000   \n",
              "25%                                   0.000000   \n",
              "50%                                   0.000000   \n",
              "75%                                   2.000000   \n",
              "max                                   4.000000   \n",
              "\n",
              "       Percent of spurious patterns (%)  most confused number  total(%)  \n",
              "count                         10.000000             10.000000      10.0  \n",
              "mean                          37.000000              6.500000     100.0  \n",
              "std                           15.267977              2.758824       0.0  \n",
              "min                            4.000000              1.000000     100.0  \n",
              "25%                           30.500000              4.500000     100.0  \n",
              "50%                           39.000000              7.000000     100.0  \n",
              "75%                           48.000000              9.000000     100.0  \n",
              "max                           58.000000              9.000000     100.0  "
            ],
            "text/html": [
              "\n",
              "  <div id=\"df-7e2c26c9-5830-49c7-8b49-a7bd7078f5a4\">\n",
              "    <div class=\"colab-df-container\">\n",
              "      <div>\n",
              "<style scoped>\n",
              "    .dataframe tbody tr th:only-of-type {\n",
              "        vertical-align: middle;\n",
              "    }\n",
              "\n",
              "    .dataframe tbody tr th {\n",
              "        vertical-align: top;\n",
              "    }\n",
              "\n",
              "    .dataframe thead th {\n",
              "        text-align: right;\n",
              "    }\n",
              "</style>\n",
              "<table border=\"1\" class=\"dataframe\">\n",
              "  <thead>\n",
              "    <tr style=\"text-align: right;\">\n",
              "      <th></th>\n",
              "      <th>Unnamed: 0</th>\n",
              "      <th>Percent of correct classification (%)</th>\n",
              "      <th>Percent of incorrect classification (%)</th>\n",
              "      <th>Percent of spurious patterns (%)</th>\n",
              "      <th>most confused number</th>\n",
              "      <th>total(%)</th>\n",
              "    </tr>\n",
              "  </thead>\n",
              "  <tbody>\n",
              "    <tr>\n",
              "      <th>count</th>\n",
              "      <td>10.00000</td>\n",
              "      <td>10.000000</td>\n",
              "      <td>10.000000</td>\n",
              "      <td>10.000000</td>\n",
              "      <td>10.000000</td>\n",
              "      <td>10.0</td>\n",
              "    </tr>\n",
              "    <tr>\n",
              "      <th>mean</th>\n",
              "      <td>4.50000</td>\n",
              "      <td>61.800000</td>\n",
              "      <td>1.200000</td>\n",
              "      <td>37.000000</td>\n",
              "      <td>6.500000</td>\n",
              "      <td>100.0</td>\n",
              "    </tr>\n",
              "    <tr>\n",
              "      <th>std</th>\n",
              "      <td>3.02765</td>\n",
              "      <td>15.476147</td>\n",
              "      <td>1.686548</td>\n",
              "      <td>15.267977</td>\n",
              "      <td>2.758824</td>\n",
              "      <td>0.0</td>\n",
              "    </tr>\n",
              "    <tr>\n",
              "      <th>min</th>\n",
              "      <td>0.00000</td>\n",
              "      <td>42.000000</td>\n",
              "      <td>0.000000</td>\n",
              "      <td>4.000000</td>\n",
              "      <td>1.000000</td>\n",
              "      <td>100.0</td>\n",
              "    </tr>\n",
              "    <tr>\n",
              "      <th>25%</th>\n",
              "      <td>2.25000</td>\n",
              "      <td>52.000000</td>\n",
              "      <td>0.000000</td>\n",
              "      <td>30.500000</td>\n",
              "      <td>4.500000</td>\n",
              "      <td>100.0</td>\n",
              "    </tr>\n",
              "    <tr>\n",
              "      <th>50%</th>\n",
              "      <td>4.50000</td>\n",
              "      <td>59.000000</td>\n",
              "      <td>0.000000</td>\n",
              "      <td>39.000000</td>\n",
              "      <td>7.000000</td>\n",
              "      <td>100.0</td>\n",
              "    </tr>\n",
              "    <tr>\n",
              "      <th>75%</th>\n",
              "      <td>6.75000</td>\n",
              "      <td>69.500000</td>\n",
              "      <td>2.000000</td>\n",
              "      <td>48.000000</td>\n",
              "      <td>9.000000</td>\n",
              "      <td>100.0</td>\n",
              "    </tr>\n",
              "    <tr>\n",
              "      <th>max</th>\n",
              "      <td>9.00000</td>\n",
              "      <td>96.000000</td>\n",
              "      <td>4.000000</td>\n",
              "      <td>58.000000</td>\n",
              "      <td>9.000000</td>\n",
              "      <td>100.0</td>\n",
              "    </tr>\n",
              "  </tbody>\n",
              "</table>\n",
              "</div>\n",
              "      <button class=\"colab-df-convert\" onclick=\"convertToInteractive('df-7e2c26c9-5830-49c7-8b49-a7bd7078f5a4')\"\n",
              "              title=\"Convert this dataframe to an interactive table.\"\n",
              "              style=\"display:none;\">\n",
              "        \n",
              "  <svg xmlns=\"http://www.w3.org/2000/svg\" height=\"24px\"viewBox=\"0 0 24 24\"\n",
              "       width=\"24px\">\n",
              "    <path d=\"M0 0h24v24H0V0z\" fill=\"none\"/>\n",
              "    <path d=\"M18.56 5.44l.94 2.06.94-2.06 2.06-.94-2.06-.94-.94-2.06-.94 2.06-2.06.94zm-11 1L8.5 8.5l.94-2.06 2.06-.94-2.06-.94L8.5 2.5l-.94 2.06-2.06.94zm10 10l.94 2.06.94-2.06 2.06-.94-2.06-.94-.94-2.06-.94 2.06-2.06.94z\"/><path d=\"M17.41 7.96l-1.37-1.37c-.4-.4-.92-.59-1.43-.59-.52 0-1.04.2-1.43.59L10.3 9.45l-7.72 7.72c-.78.78-.78 2.05 0 2.83L4 21.41c.39.39.9.59 1.41.59.51 0 1.02-.2 1.41-.59l7.78-7.78 2.81-2.81c.8-.78.8-2.07 0-2.86zM5.41 20L4 18.59l7.72-7.72 1.47 1.35L5.41 20z\"/>\n",
              "  </svg>\n",
              "      </button>\n",
              "      \n",
              "  <style>\n",
              "    .colab-df-container {\n",
              "      display:flex;\n",
              "      flex-wrap:wrap;\n",
              "      gap: 12px;\n",
              "    }\n",
              "\n",
              "    .colab-df-convert {\n",
              "      background-color: #E8F0FE;\n",
              "      border: none;\n",
              "      border-radius: 50%;\n",
              "      cursor: pointer;\n",
              "      display: none;\n",
              "      fill: #1967D2;\n",
              "      height: 32px;\n",
              "      padding: 0 0 0 0;\n",
              "      width: 32px;\n",
              "    }\n",
              "\n",
              "    .colab-df-convert:hover {\n",
              "      background-color: #E2EBFA;\n",
              "      box-shadow: 0px 1px 2px rgba(60, 64, 67, 0.3), 0px 1px 3px 1px rgba(60, 64, 67, 0.15);\n",
              "      fill: #174EA6;\n",
              "    }\n",
              "\n",
              "    [theme=dark] .colab-df-convert {\n",
              "      background-color: #3B4455;\n",
              "      fill: #D2E3FC;\n",
              "    }\n",
              "\n",
              "    [theme=dark] .colab-df-convert:hover {\n",
              "      background-color: #434B5C;\n",
              "      box-shadow: 0px 1px 3px 1px rgba(0, 0, 0, 0.15);\n",
              "      filter: drop-shadow(0px 1px 2px rgba(0, 0, 0, 0.3));\n",
              "      fill: #FFFFFF;\n",
              "    }\n",
              "  </style>\n",
              "\n",
              "      <script>\n",
              "        const buttonEl =\n",
              "          document.querySelector('#df-7e2c26c9-5830-49c7-8b49-a7bd7078f5a4 button.colab-df-convert');\n",
              "        buttonEl.style.display =\n",
              "          google.colab.kernel.accessAllowed ? 'block' : 'none';\n",
              "\n",
              "        async function convertToInteractive(key) {\n",
              "          const element = document.querySelector('#df-7e2c26c9-5830-49c7-8b49-a7bd7078f5a4');\n",
              "          const dataTable =\n",
              "            await google.colab.kernel.invokeFunction('convertToInteractive',\n",
              "                                                     [key], {});\n",
              "          if (!dataTable) return;\n",
              "\n",
              "          const docLinkHtml = 'Like what you see? Visit the ' +\n",
              "            '<a target=\"_blank\" href=https://colab.research.google.com/notebooks/data_table.ipynb>data table notebook</a>'\n",
              "            + ' to learn more about interactive tables.';\n",
              "          element.innerHTML = '';\n",
              "          dataTable['output_type'] = 'display_data';\n",
              "          await google.colab.output.renderOutput(dataTable, element);\n",
              "          const docLink = document.createElement('div');\n",
              "          docLink.innerHTML = docLinkHtml;\n",
              "          element.appendChild(docLink);\n",
              "        }\n",
              "      </script>\n",
              "    </div>\n",
              "  </div>\n",
              "  "
            ]
          },
          "metadata": {},
          "execution_count": 11
        }
      ]
    },
    {
      "cell_type": "code",
      "source": [],
      "metadata": {
        "id": "rLpffbGlchcz"
      },
      "execution_count": null,
      "outputs": []
    }
  ]
}